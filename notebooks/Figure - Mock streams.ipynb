{
 "cells": [
  {
   "cell_type": "code",
   "execution_count": null,
   "metadata": {
    "collapsed": false
   },
   "outputs": [],
   "source": [
    "from __future__ import division, print_function\n",
    "import os\n",
    "import sys\n",
    "from six.moves import cPickle as pickle\n",
    "\n",
    "# Third-party\n",
    "import astropy.coordinates as coord\n",
    "import astropy.units as u\n",
    "import matplotlib as mpl\n",
    "import matplotlib.pyplot as pl\n",
    "%matplotlib inline\n",
    "pl.style.use('apw-notebook')\n",
    "import numpy as np\n",
    "\n",
    "# Custom\n",
    "import gary.dynamics as gd\n",
    "import gary.integrate as gi\n",
    "import gary.potential as gp\n",
    "from gary.units import galactic\n",
    "\n",
    "import ophiuchus.potential as op\n",
    "from ophiuchus.data import OphiuchusData\n",
    "from ophiuchus.util import integrate_forward_backward\n",
    "from ophiuchus.coordinates import Ophiuchus\n",
    "from ophiuchus import galactocentric_frame, vcirc, vlsr, RESULTSPATH\n",
    "from ophiuchus.experiments import MockStreamGrid\n",
    "from ophiuchus.util import get_potential_stream_prog\n",
    "from ophiuchus.plot import surface_density\n",
    "\n",
    "plotpath = \"/Users/adrian/projects/ophiuchus-paper/figures/\"\n",
    "if not os.path.exists(plotpath):\n",
    "    os.mkdir(plotpath)"
   ]
  },
  {
   "cell_type": "code",
   "execution_count": null,
   "metadata": {
    "collapsed": false
   },
   "outputs": [],
   "source": [
    "ophdata = OphiuchusData()\n",
    "ophdata_fit = OphiuchusData(\"(source == b'Sesar2015a') | (Name == b'cand9') | (Name == b'cand14')\")\n",
    "ophdata_fan = OphiuchusData(\"(source == b'Sesar2015b') & (Name != b'cand9') & (Name != b'cand14')\")"
   ]
  },
  {
   "cell_type": "code",
   "execution_count": null,
   "metadata": {
    "collapsed": true
   },
   "outputs": [],
   "source": [
    "all_names = [\"static_mw\"] + [\"barred_mw_{}\".format(i) for i in range(1,10)]\n",
    "short_names = [\"static\"] + [\"bar{}\".format(i) for i in range(1,10)]\n",
    "name_map = dict(zip(all_names, short_names))"
   ]
  },
  {
   "cell_type": "markdown",
   "metadata": {},
   "source": [
    "## Mock streams"
   ]
  },
  {
   "cell_type": "code",
   "execution_count": null,
   "metadata": {
    "collapsed": false
   },
   "outputs": [],
   "source": [
    "# FOR PAPER\n",
    "\n",
    "style = {\n",
    "    \"linestyle\": \"none\",\n",
    "    \"marker\": 'o',\n",
    "    \"markersize\": 2,\n",
    "    \"alpha\": 0.1,\n",
    "    \"color\": \"#555555\"\n",
    "}\n",
    "line_style = {\n",
    "    \"marker\": None, \n",
    "    \"linestyle\": '--', \n",
    "    \"color\": 'k', \n",
    "    \"linewidth\": 1.5, \n",
    "    \"dashes\": (3,2)\n",
    "}\n",
    "data_style = dict(marker='o', ms=4, ls='none', ecolor='#333333', alpha=0.75, color='k')\n",
    "data_b_style = data_style.copy()\n",
    "data_b_style['marker'] = 's'\n",
    "\n",
    "# contour stuff\n",
    "levels = np.array([-2,-1,0,1]) - 0.1\n",
    "\n",
    "for k,name_group in enumerate([all_names[:5],all_names[5:]]):\n",
    "    fig,allaxes = pl.subplots(3, 5, figsize=(9,6.5), sharex='col', sharey='row')\n",
    "    for i,name in enumerate(name_group):\n",
    "        axes = allaxes[:,i]\n",
    "        \n",
    "        # path to file to cache the likelihoods\n",
    "        cache_file = os.path.join(RESULTSPATH, name, \"mockstream\", \"ln_likelihoods.npy\")\n",
    "        lls = np.load(cache_file)\n",
    "        best_ix = lls.sum(axis=1).argmax()\n",
    "    \n",
    "        pot, streams, prog = get_potential_stream_prog(name)\n",
    "        stream = streams[:,best_ix]\n",
    "        model_c,model_v = stream.to_frame(coord.Galactic, galactocentric_frame=galactocentric_frame, vcirc=vcirc, vlsr=vlsr)\n",
    "\n",
    "        # cut to just points in the window\n",
    "        ix = (model_c.l > 0*u.deg) & (model_c.l < 11*u.deg) & (model_c.b > 25.5*u.deg) & (model_c.b < 34.5*u.deg)\n",
    "        \n",
    "        # density in sky coords\n",
    "        sky_ix = ix & (model_c.distance > 4.5*u.kpc) & (model_c.distance < 10*u.kpc)\n",
    "        grid,log_dens = surface_density(model_c[sky_ix], bandwidth=0.2)\n",
    "        cs = axes[0].contourf(grid[:,0].reshape(log_dens.shape), grid[:,1].reshape(log_dens.shape), log_dens,\n",
    "                              levels=levels, cmap='magma_r')\n",
    "        \n",
    "        axes[1].plot(model_c.l[ix], model_c.distance[ix], rasterized=True, **style)\n",
    "        axes[2].plot(model_c.l[ix], galactic.decompose(model_v[2][ix]), rasterized=True, **style)\n",
    "        \n",
    "        # l,b\n",
    "        axes[0].plot([3.8,3.8], [31.5,32.5], **line_style)\n",
    "        axes[0].plot([5.85,5.85], [30.,31], **line_style)\n",
    "        # l,d\n",
    "        axes[1].plot([3.8,3.8], [8.7,9.3], **line_style)\n",
    "        axes[1].plot([5.85,5.85], [7.2,7.8], **line_style)\n",
    "        # l,vr\n",
    "        axes[2].plot([3.8,3.8], [276,292], **line_style)\n",
    "        axes[2].plot([5.85,5.85], [284,300], **line_style)\n",
    "        \n",
    "        # the data\n",
    "#         _tmp = data_style.copy(); _tmp.pop('ecolor')\n",
    "#         axes[0].plot(ophdata_fit.coord.l.degree, ophdata_fit.coord.b.degree, **_tmp)\n",
    "        _tmp = data_b_style.copy(); _tmp.pop('ecolor')\n",
    "        axes[0].plot(ophdata_fan.coord.l.degree, ophdata_fan.coord.b.degree, **_tmp)\n",
    "        \n",
    "#         axes[1].errorbar(ophdata_fit.coord.l.degree, ophdata_fit.coord.distance.to(u.kpc).value, \n",
    "#                          ophdata_fit.coord_err['distance'].to(u.kpc).value, **data_style)\n",
    "        axes[1].errorbar(ophdata_fan.coord.l.degree, ophdata_fan.coord.distance.to(u.kpc).value, \n",
    "                         ophdata_fan.coord_err['distance'].to(u.kpc).value, **data_b_style)\n",
    "        \n",
    "#         axes[2].errorbar(ophdata_fit.coord.l.degree, ophdata_fit.veloc['vr'].to(u.km/u.s).value, \n",
    "#                          ophdata_fit.veloc_err['vr'].to(u.km/u.s).value, **data_style)\n",
    "        axes[2].errorbar(ophdata_fan.coord.l.degree, ophdata_fan.veloc['vr'].to(u.km/u.s).value, \n",
    "                         ophdata_fan.veloc_err['vr'].to(u.km/u.s).value, **data_b_style)\n",
    "        \n",
    "        # Axis limits\n",
    "        axes[0].set_xlim(9.,2)\n",
    "        axes[0].set_ylim(26.5, 33.5)\n",
    "        axes[1].set_ylim(5.3, 9.7)\n",
    "        axes[2].set_ylim(225, 325)\n",
    "        \n",
    "        # Text\n",
    "        axes[0].set_title(name_map[name], fontsize=20)\n",
    "        axes[2].set_xlabel(\"$l$ [deg]\", fontsize=18)\n",
    "        if i == 0:\n",
    "            axes[0].set_ylabel(\"$b$ [deg]\", fontsize=18)\n",
    "            axes[1].set_ylabel(r\"$d_\\odot$ [kpc]\", fontsize=18)\n",
    "            axes[2].set_ylabel(r\"$v_r$ [${\\rm km}\\,{\\rm s}^{-1}$]\", fontsize=18)\n",
    "    \n",
    "    fig.tight_layout()\n",
    "    \n",
    "    fig.savefig(os.path.join(plotpath, \"mockstream{}.pdf\".format(k)), rasterized=True, dpi=400)\n",
    "#     fig.savefig(os.path.join(plotpath, \"mockstream{}.png\".format(k)), dpi=400)"
   ]
  },
  {
   "cell_type": "markdown",
   "metadata": {},
   "source": [
    "---"
   ]
  },
  {
   "cell_type": "code",
   "execution_count": null,
   "metadata": {
    "collapsed": false,
    "scrolled": false
   },
   "outputs": [],
   "source": [
    "fig,allaxes = pl.subplots(2, 5, figsize=(9,5), sharex=True, sharey=True)\n",
    "for k,name_group in enumerate([all_names[:5],all_names[5:]]):\n",
    "    for i,name in enumerate(name_group):\n",
    "        ax = allaxes[k,i]\n",
    "        \n",
    "        # path to file to cache the likelihoods\n",
    "        cache_file = os.path.join(RESULTSPATH, name, \"mockstream\", \"ln_likelihoods.npy\")\n",
    "        lls = np.load(cache_file)\n",
    "        best_ix = lls.sum(axis=1).argmax()\n",
    "    \n",
    "        pot, streams, prog = get_potential_stream_prog(name)\n",
    "        stream = streams[:,best_ix]\n",
    "        model_c,model_v = stream.to_frame(coord.Galactic, galactocentric_frame=galactocentric_frame, vcirc=vcirc, vlsr=vlsr)\n",
    "\n",
    "#         ix = distance_ix(model_c.l, model_c.distance) & (model_c.l > 0) & (model_c.l < 10*u.deg) | True\n",
    "        ix = np.ones(model_c.l.size).astype(bool)\n",
    "        ax.plot(stream.pos[0][ix], stream.pos[2][ix], rasterized=True, **style)\n",
    "        \n",
    "        lbd_corners = np.vstack(map(np.ravel, np.meshgrid([1.5,9.5],[26.,33.],[5.3,9.7])))\n",
    "        corners_g = coord.Galactic(l=lbd_corners[0]*u.degree, b=lbd_corners[1]*u.degree, distance=lbd_corners[2]*u.kpc)\n",
    "        corners = corners_g.transform_to(galactocentric_frame).cartesian.xyz.value\n",
    "        \n",
    "#         corners = corners.reshape(3,2,2,2)[...,0].reshape(3,4)\n",
    "        # only pick 4 of the points to plot\n",
    "        corners = corners[:,corners[1] > 0.5][[0,2]]\n",
    "        \n",
    "        # compute centroid\n",
    "        cent = np.mean(corners, axis=1)\n",
    "        \n",
    "        # sort by polar angle\n",
    "        corner_list = corners.T.tolist()\n",
    "        corner_list.sort(key=lambda p: np.arctan2(p[1]-cent[1],p[0]-cent[0]))\n",
    "        \n",
    "        # plot polyline\n",
    "        poly = mpl.patches.Polygon(corner_list, closed=True, fill=False, color='#2166AC', linestyle='-')\n",
    "        ax.add_patch(poly)\n",
    "        \n",
    "#         ax.plot(corners[0], corners[2], ls='none', marker='o', markersize=4)\n",
    "#         ax.plot(-galactocentric_frame.galcen_distance, 0., marker='o', color='y', markersize=8)\n",
    "        ax.text(-galactocentric_frame.galcen_distance.value, 0., r\"$\\odot$\", fontsize=18, ha='center', va='center')\n",
    "        \n",
    "        # Text\n",
    "        ax.set_title(name_map[name], fontsize=20)\n",
    "    \n",
    "        if k == 1:\n",
    "            ax.set_xlabel(\"$x$ [kpc]\", fontsize=18)\n",
    "        \n",
    "#         break\n",
    "#     break\n",
    "    \n",
    "# Axis limits\n",
    "ax.set_xlim(-10,5)\n",
    "ax.set_ylim(-7.5,7.5)\n",
    "\n",
    "ax.xaxis.set_ticks([-8,-4,0,4])\n",
    "ax.yaxis.set_ticks([-4,0,4])\n",
    "\n",
    "allaxes[0,0].set_ylabel(\"$z$ [kpc]\", fontsize=18)\n",
    "allaxes[1,0].set_ylabel(\"$z$ [kpc]\", fontsize=18)\n",
    "\n",
    "fig.tight_layout()\n",
    "    \n",
    "fig.savefig(os.path.join(plotpath, \"mockstream-xyz.pdf\"), dpi=400)\n",
    "# fig.savefig(os.path.join(plotpath, \"mockstream-xyz.png\"), dpi=400)"
   ]
  },
  {
   "cell_type": "markdown",
   "metadata": {
    "collapsed": true
   },
   "source": [
    "---"
   ]
  },
  {
   "cell_type": "markdown",
   "metadata": {},
   "source": [
    "## Normalize the total number of stars in \"dense\" part of stream"
   ]
  },
  {
   "cell_type": "code",
   "execution_count": null,
   "metadata": {
    "collapsed": true
   },
   "outputs": [],
   "source": [
    "def normalize_to_total_number(name, noph_stars=500): # from Bernard paper\n",
    "    cache_file = os.path.join(RESULTSPATH, name, \"mockstream\", \"ln_likelihoods.npy\")\n",
    "    lls = np.load(cache_file)\n",
    "    best_ix = lls.sum(axis=1).argmax()\n",
    "\n",
    "    pot, streams, prog = get_potential_stream_prog(name)\n",
    "    stream = streams[:-1000,best_ix] # cut off at time of disruption, -250 Myr (2 stars, 0.5 Myr release)\n",
    "#     stream = streams[:,best_ix]\n",
    "    model_c,model_v = stream.to_frame(coord.Galactic, galactocentric_frame=galactocentric_frame, vcirc=vcirc, vlsr=vlsr)\n",
    "\n",
    "    ix = (model_c.distance > 4.5*u.kpc) & (model_c.distance < 15*u.kpc)\n",
    "    \n",
    "    # how many points are between dense part of stream?\n",
    "    ix2 = ix & (model_c.l > 3.8*u.deg) & (model_c.l < 5.85*u.deg) & (model_c.b > 29.5*u.deg) & (model_c.b < 32.5*u.deg)\n",
    "    print(ix2.sum())\n",
    "    \n",
    "    every = int(round(ix2.sum() / float(noph_stars)))\n",
    "    \n",
    "    return model_c[ix]#[::every]"
   ]
  },
  {
   "cell_type": "code",
   "execution_count": null,
   "metadata": {
    "collapsed": false
   },
   "outputs": [],
   "source": [
    "xbounds = (2, 9)\n",
    "ybounds = (27, 34)\n",
    "area = (xbounds[1]-xbounds[0]) * (ybounds[1]-ybounds[0]) "
   ]
  },
  {
   "cell_type": "code",
   "execution_count": null,
   "metadata": {
    "collapsed": false
   },
   "outputs": [],
   "source": [
    "static_gal = normalize_to_total_number(\"static_mw\")\n",
    "static_lb = np.vstack((static_gal.l.degree, static_gal.b.degree))"
   ]
  },
  {
   "cell_type": "code",
   "execution_count": null,
   "metadata": {
    "collapsed": false
   },
   "outputs": [],
   "source": [
    "bar_gal = normalize_to_total_number(\"barred_mw_8\")\n",
    "bar_lb = np.vstack((bar_gal.l.degree, bar_gal.b.degree))"
   ]
  },
  {
   "cell_type": "code",
   "execution_count": null,
   "metadata": {
    "collapsed": true
   },
   "outputs": [],
   "source": [
    "from scipy.ndimage import gaussian_filter"
   ]
  },
  {
   "cell_type": "code",
   "execution_count": null,
   "metadata": {
    "collapsed": false
   },
   "outputs": [],
   "source": [
    "# ddeg = (6*u.arcmin).to(u.degree).value\n",
    "ddeg = (10*u.arcmin).to(u.degree).value\n",
    "xbins = np.arange(xbounds[0], xbounds[1]+ddeg, ddeg)\n",
    "ybins = np.arange(ybounds[0], ybounds[1]+ddeg, ddeg)\n",
    "\n",
    "H_static,_,_ = np.histogram2d(static_lb[0], static_lb[1], bins=(xbins, ybins))\n",
    "H_bar,_,_ = np.histogram2d(bar_lb[0], bar_lb[1], bins=(xbins, ybins))\n",
    "\n",
    "bg_density = 1500 # stars / deg^2\n",
    "n_bg = int(bg_density*area)\n",
    "# bg_l = np.random.uniform(xbounds[0], xbounds[1], size=int(bg_density*area))\n",
    "# bg_b = np.random.uniform(ybounds[0], ybounds[1], size=int(bg_density*area))\n",
    "# bg_im = np.random.poisson(size=H_static.shape)\n",
    "# bg_im = bg_im * float(n_bg) / bg_im.sum()"
   ]
  },
  {
   "cell_type": "code",
   "execution_count": null,
   "metadata": {
    "collapsed": false
   },
   "outputs": [],
   "source": [
    "bg_im = np.random.poisson(lam=42, size=H_static.shape)\n",
    "bg_im.sum(), n_bg"
   ]
  },
  {
   "cell_type": "code",
   "execution_count": null,
   "metadata": {
    "collapsed": false
   },
   "outputs": [],
   "source": [
    "((1500 / u.degree**2) * (10*u.arcmin)**2).decompose()"
   ]
  },
  {
   "cell_type": "code",
   "execution_count": null,
   "metadata": {
    "collapsed": false
   },
   "outputs": [],
   "source": [
    "static_im = H_static + bg_im\n",
    "bar_im = H_bar + bg_im"
   ]
  },
  {
   "cell_type": "code",
   "execution_count": null,
   "metadata": {
    "collapsed": false
   },
   "outputs": [],
   "source": [
    "_ = pl.hist(bg_im.ravel())"
   ]
  },
  {
   "cell_type": "code",
   "execution_count": null,
   "metadata": {
    "collapsed": false
   },
   "outputs": [],
   "source": [
    "# H = gaussian_filter(H, sigma=ddeg)\n",
    "\n",
    "from scipy.stats import scoreatpercentile\n",
    "_flat = static_im.ravel()\n",
    "pl.hist(static_im.ravel(), bins=np.linspace(0, 1.5*scoreatpercentile(_flat,75),32), alpha=0.5);\n",
    "pl.hist(bar_im.ravel(), bins=np.linspace(0, 1.5*scoreatpercentile(_flat,75),32), alpha=0.5);"
   ]
  },
  {
   "cell_type": "code",
   "execution_count": null,
   "metadata": {
    "collapsed": true
   },
   "outputs": [],
   "source": [
    "vmin = scoreatpercentile(_flat,2)\n",
    "vmax = scoreatpercentile(_flat,98)\n",
    "imshow_kw = dict(extent=[xbins.min(), xbins.max(), ybins.min(), ybins.max()], \n",
    "                 origin='bottom', cmap='Greys', vmin=vmin, vmax=vmax, interpolation='nearest')"
   ]
  },
  {
   "cell_type": "code",
   "execution_count": null,
   "metadata": {
    "collapsed": true
   },
   "outputs": [],
   "source": [
    "line_style = {\n",
    "    \"marker\": None, \n",
    "    \"linestyle\": '--', \n",
    "    \"color\": 'k', \n",
    "    \"linewidth\": 1.5, \n",
    "    \"dashes\": (3,2)\n",
    "}"
   ]
  },
  {
   "cell_type": "code",
   "execution_count": null,
   "metadata": {
    "collapsed": false
   },
   "outputs": [],
   "source": [
    "# H,_,_ = np.histogram2d(all_static[0], all_static[1], bins=(xbins, ybins))\n",
    "# H = gaussian_filter(H, sigma=ddeg)\n",
    "\n",
    "pl.imshow(static_im.T, **imshow_kw)\n",
    "pl.plot([3.8,3.8], [31.5,32.5], **line_style)\n",
    "pl.plot([5.85,5.85], [30.,31], **line_style)\n",
    "pl.xlim(xbins.max(), xbins.min())\n",
    "pl.ylim(ybins.min(), ybins.max())\n",
    "pl.xlabel(\"$l$ [deg]\")\n",
    "pl.ylabel(\"$b$ [deg]\")\n",
    "pl.title(\"static\")\n",
    "# pl.tight_layout()\n",
    "pl.gca().set_aspect('equal')"
   ]
  },
  {
   "cell_type": "code",
   "execution_count": null,
   "metadata": {
    "collapsed": false
   },
   "outputs": [],
   "source": [
    "# H,_,_ = np.histogram2d(all_bar[0], all_bar[1], bins=(xbins, ybins))\n",
    "# H = gaussian_filter(H, sigma=ddeg)\n",
    "\n",
    "pl.imshow(bar_im.T, **imshow_kw)\n",
    "pl.plot([3.8,3.8], [31.5,32.5], **line_style)\n",
    "pl.plot([5.85,5.85], [30.,31], **line_style)\n",
    "pl.xlim(xbins.max(), xbins.min())\n",
    "pl.ylim(ybins.min(), ybins.max())\n",
    "pl.xlabel(\"$l$ [deg]\")\n",
    "pl.ylabel(\"$b$ [deg]\")\n",
    "pl.title(\"bar8\")\n",
    "pl.tight_layout()"
   ]
  },
  {
   "cell_type": "code",
   "execution_count": null,
   "metadata": {
    "collapsed": true
   },
   "outputs": [],
   "source": [
    "_density_plot_cache = dict()"
   ]
  },
  {
   "cell_type": "code",
   "execution_count": null,
   "metadata": {
    "collapsed": false
   },
   "outputs": [],
   "source": [
    "line_style = {\n",
    "    \"marker\": None, \n",
    "    \"linestyle\": '-', \n",
    "    \"color\": 'k', \n",
    "    \"linewidth\": 2, \n",
    "}\n",
    "\n",
    "fig,allaxes = pl.subplots(2, 5, figsize=(9,5), sharex=True, sharey=True)\n",
    "\n",
    "vmin = vmax = None\n",
    "\n",
    "for i,name in enumerate(all_names):\n",
    "    print(name)\n",
    "    ax = allaxes.flat[i]\n",
    "        \n",
    "    if name not in _density_plot_cache:\n",
    "        gal = normalize_to_total_number(name)\n",
    "        lb = np.vstack((gal.l.degree, gal.b.degree))\n",
    "        H,_,_ = np.histogram2d(lb[0], lb[1], bins=(xbins, ybins))\n",
    "        im = H + bg_im\n",
    "        _density_plot_cache[name] = im.T\n",
    "    \n",
    "    im = _density_plot_cache[name]\n",
    "    \n",
    "    if vmin is None:\n",
    "        _flat = im.ravel()\n",
    "        vmin = scoreatpercentile(_flat,2)\n",
    "        vmax = scoreatpercentile(_flat,98)\n",
    "        imshow_kw = dict(extent=[xbins.min(), xbins.max(), ybins.min(), ybins.max()], \n",
    "                         origin='bottom', cmap='Greys', vmin=vmin, vmax=vmax, interpolation='nearest')\n",
    "    \n",
    "    ax.imshow(im, **imshow_kw)\n",
    "    ax.plot([3.8,3.8], [31.5,32.5], **line_style)\n",
    "    ax.plot([5.85,5.85], [30.,31], **line_style)\n",
    "    \n",
    "    # Text\n",
    "    ax.set_title(name_map[name], fontsize=20)\n",
    "\n",
    "    if i > 4:\n",
    "        ax.set_xlabel(\"$l$ [deg]\", fontsize=18)\n",
    "    \n",
    "    ax.set(adjustable='box-forced', aspect='equal')\n",
    "        \n",
    "ax.set_xlim(xbins.max(), xbins.min())\n",
    "ax.set_ylim(ybins.min(), ybins.max())\n",
    "\n",
    "allaxes[0,0].set_ylabel(\"$b$ [deg]\", fontsize=18)\n",
    "allaxes[1,0].set_ylabel(\"$b$ [deg]\", fontsize=18)\n",
    "\n",
    "fig.tight_layout()\n",
    "    \n",
    "fig.savefig(os.path.join(plotpath, \"densitymaps.pdf\"))\n",
    "fig.savefig(os.path.join(plotpath, \"densitymaps.png\"), dpi=400)"
   ]
  },
  {
   "cell_type": "markdown",
   "metadata": {
    "collapsed": true
   },
   "source": [
    "---\n",
    "\n",
    "## For CfA talk"
   ]
  },
  {
   "cell_type": "code",
   "execution_count": null,
   "metadata": {
    "collapsed": false
   },
   "outputs": [],
   "source": [
    "pick = [1,8,9]"
   ]
  },
  {
   "cell_type": "code",
   "execution_count": null,
   "metadata": {
    "collapsed": false
   },
   "outputs": [],
   "source": [
    "style = {\n",
    "    \"linestyle\": \"none\",\n",
    "    \"marker\": 'o',\n",
    "    \"markersize\": 2,\n",
    "    \"alpha\": 0.3,\n",
    "    \"color\": \"#555555\"\n",
    "}\n",
    "line_style = {\n",
    "    \"marker\": None, \n",
    "    \"linestyle\": '--', \n",
    "    \"color\": 'k', \n",
    "    \"linewidth\": 1.5, \n",
    "    \"dashes\": (3,2)\n",
    "}\n",
    "data_style = dict(marker='o', ms=4, ls='none', ecolor='#333333', alpha=0.75, color='k')\n",
    "data_b_style = data_style.copy()\n",
    "data_b_style['marker'] = 's'\n",
    "\n",
    "# contour stuff\n",
    "levels = np.array([-2,-1,0,1]) - 0.1\n",
    "\n",
    "fig,allaxes = pl.subplots(2, 4, figsize=(12,6), sharex='col', sharey='row')\n",
    "for i,name in enumerate(['static_mw']+['barred_mw_'+str(j) for j in pick]):\n",
    "    axes = allaxes[:,i]\n",
    "\n",
    "    # path to file to cache the likelihoods\n",
    "    cache_file = os.path.join(RESULTSPATH, name, \"mockstream\", \"ln_likelihoods.npy\")\n",
    "    lls = np.load(cache_file)\n",
    "    best_ix = lls.sum(axis=1).argmax()\n",
    "    \n",
    "    pot = op.load_potential(name)\n",
    "    Omega = (pot.parameters['bar']['Omega']/u.Myr).to(u.km/u.s/u.kpc).value\n",
    "    if i == 0:\n",
    "        title = 'no bar'\n",
    "    else:\n",
    "        title = r'$\\Omega_p={:d}\\,{{\\rm km/s/kpc}}$'.format(int(Omega))\n",
    "\n",
    "    pot, streams, prog = get_potential_stream_prog(name)\n",
    "    stream = streams[:,best_ix]\n",
    "    model_c,model_v = stream.to_frame(coord.Galactic, galactocentric_frame=galactocentric_frame, vcirc=vcirc, vlsr=vlsr)\n",
    "\n",
    "    # cut to just points in the window\n",
    "    ix = (model_c.l > 0*u.deg) & (model_c.l < 11*u.deg) & (model_c.b > 25.5*u.deg) & (model_c.b < 34.5*u.deg)\n",
    "\n",
    "    # density in sky coords\n",
    "    sky_ix = ix & (model_c.distance > 4.5*u.kpc) & (model_c.distance < 10*u.kpc)\n",
    "    grid,log_dens = surface_density(model_c[sky_ix], bandwidth=0.2)\n",
    "    cs = axes[0].contourf(grid[:,0].reshape(log_dens.shape), grid[:,1].reshape(log_dens.shape), log_dens,\n",
    "                          levels=levels, cmap='magma_r')\n",
    "\n",
    "    axes[1].plot(model_c.l[ix], galactic.decompose(model_v[2][ix]), rasterized=True, **style)\n",
    "\n",
    "    # l,b\n",
    "    axes[0].plot([3.8,3.8], [31.5,32.5], **line_style)\n",
    "    axes[0].plot([5.85,5.85], [30.,31], **line_style)\n",
    "    # l,vr\n",
    "    axes[1].plot([3.8,3.8], [276,292], **line_style)\n",
    "    axes[1].plot([5.85,5.85], [284,300], **line_style)\n",
    "\n",
    "    # the data\n",
    "    _tmp = data_b_style.copy(); _tmp.pop('ecolor')\n",
    "    axes[0].plot(ophdata_fan.coord.l.degree, ophdata_fan.coord.b.degree, **_tmp)\n",
    "\n",
    "    axes[1].errorbar(ophdata_fan.coord.l.degree, ophdata_fan.veloc['vr'].to(u.km/u.s).value, \n",
    "                     ophdata_fan.veloc_err['vr'].to(u.km/u.s).value, **data_b_style)\n",
    "\n",
    "    # Axis limits\n",
    "    axes[0].set_xlim(9.,2)\n",
    "    axes[0].set_ylim(26.5, 33.5)\n",
    "    axes[1].set_ylim(225, 325)\n",
    "\n",
    "    # Text\n",
    "    axes[0].set_title(title, fontsize=18)\n",
    "    axes[1].set_xlabel(\"$l$ [deg]\", fontsize=18)\n",
    "    if i == 0:\n",
    "        axes[0].set_ylabel(\"$b$ [deg]\", fontsize=18)\n",
    "        axes[1].set_ylabel(r\"$v_r$ [${\\rm km}\\,{\\rm s}^{-1}$]\", fontsize=18)\n",
    "\n",
    "fig.tight_layout()"
   ]
  },
  {
   "cell_type": "code",
   "execution_count": null,
   "metadata": {
    "collapsed": true
   },
   "outputs": [],
   "source": [
    "_density_plot_cache2 = dict()"
   ]
  },
  {
   "cell_type": "code",
   "execution_count": null,
   "metadata": {
    "collapsed": false
   },
   "outputs": [],
   "source": [
    "line_style = {\n",
    "    \"marker\": None, \n",
    "    \"linestyle\": '-', \n",
    "    \"color\": 'k', \n",
    "    \"linewidth\": 2, \n",
    "}\n",
    "\n",
    "fig,allaxes = pl.subplots(1, 4, figsize=(11,3), sharex=True, sharey=True)\n",
    "\n",
    "vmin = vmax = None\n",
    "\n",
    "for i,name in enumerate(['static_mw']+['barred_mw_'+str(j) for j in pick]):\n",
    "    print(name)\n",
    "    ax = allaxes.flat[i]\n",
    "    \n",
    "    pot = op.load_potential(name)\n",
    "    Omega = (pot.parameters['bar']['Omega']/u.Myr).to(u.km/u.s/u.kpc).value\n",
    "    if i == 0:\n",
    "        title = 'no bar'\n",
    "    else:\n",
    "        title = r'$\\Omega_p={:d}\\,{{\\rm km/s/kpc}}$'.format(int(Omega))\n",
    "        \n",
    "    if name not in _density_plot_cache2:\n",
    "        gal = normalize_to_total_number(name)\n",
    "        lb = np.vstack((gal.l.degree, gal.b.degree))\n",
    "        H,_,_ = np.histogram2d(lb[0], lb[1], bins=(xbins, ybins))\n",
    "        im = H + bg_im\n",
    "        _density_plot_cache2[name] = im.T\n",
    "    \n",
    "    im = _density_plot_cache2[name]\n",
    "    \n",
    "    if vmin is None:\n",
    "        _flat = im.ravel()\n",
    "        vmin = scoreatpercentile(_flat,2)\n",
    "        vmax = scoreatpercentile(_flat,98)\n",
    "        imshow_kw = dict(extent=[xbins.min(), xbins.max(), ybins.min(), ybins.max()], \n",
    "                         origin='bottom', cmap='Greys', vmin=vmin, vmax=vmax, interpolation='nearest')\n",
    "    \n",
    "    ax.imshow(im, **imshow_kw)\n",
    "    ax.plot([3.8,3.8], [31.5,32.5], **line_style)\n",
    "    ax.plot([5.85,5.85], [30.,31], **line_style)\n",
    "    \n",
    "    # Text\n",
    "    ax.set_title(title, fontsize=18)\n",
    "\n",
    "    ax.set_xlabel(\"$l$ [deg]\", fontsize=18)\n",
    "    ax.set(adjustable='box-forced', aspect='equal')\n",
    "        \n",
    "ax.set_xlim(xbins.max(), xbins.min())\n",
    "ax.set_ylim(ybins.min(), ybins.max())\n",
    "\n",
    "allaxes[0].set_ylabel(\"$b$ [deg]\", fontsize=18)\n",
    "\n",
    "fig.tight_layout()"
   ]
  },
  {
   "cell_type": "code",
   "execution_count": null,
   "metadata": {
    "collapsed": true
   },
   "outputs": [],
   "source": []
  }
 ],
 "metadata": {
  "kernelspec": {
   "display_name": "Python 3",
   "language": "python",
   "name": "python3"
  },
  "language_info": {
   "codemirror_mode": {
    "name": "ipython",
    "version": 3
   },
   "file_extension": ".py",
   "mimetype": "text/x-python",
   "name": "python",
   "nbconvert_exporter": "python",
   "pygments_lexer": "ipython3",
   "version": "3.5.1"
  }
 },
 "nbformat": 4,
 "nbformat_minor": 0
}