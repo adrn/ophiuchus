{
 "cells": [
  {
   "cell_type": "code",
   "execution_count": null,
   "metadata": {
    "collapsed": false
   },
   "outputs": [],
   "source": [
    "from __future__ import division, print_function\n",
    "import os\n",
    "import sys\n",
    "from six.moves import cPickle as pickle\n",
    "\n",
    "# Third-party\n",
    "import astropy.coordinates as coord\n",
    "import astropy.units as u\n",
    "import matplotlib as mpl\n",
    "import matplotlib.pyplot as pl\n",
    "%matplotlib inline\n",
    "import numpy as np\n",
    "\n",
    "# Custom\n",
    "import gary.dynamics as gd\n",
    "import gary.integrate as gi\n",
    "import gary.potential as gp\n",
    "from gary.units import galactic\n",
    "\n",
    "import ophiuchus.potential as op\n",
    "from ophiuchus.data import OphiuchusData\n",
    "from ophiuchus.util import integrate_forward_backward\n",
    "from ophiuchus.coordinates import Ophiuchus\n",
    "from ophiuchus import galactocentric_frame, vcirc, vlsr, RESULTSPATH\n",
    "from ophiuchus.experiments import MockStreamGrid\n",
    "from ophiuchus.util import get_potential_stream_prog\n",
    "from ophiuchus.plot import surface_density\n",
    "\n",
    "plotpath = \"/Users/adrian/projects/ophiuchus-paper/figures/\"\n",
    "if not os.path.exists(plotpath):\n",
    "    os.mkdir(plotpath)"
   ]
  },
  {
   "cell_type": "code",
   "execution_count": null,
   "metadata": {
    "collapsed": false
   },
   "outputs": [],
   "source": [
    "ophdata = OphiuchusData()"
   ]
  },
  {
   "cell_type": "code",
   "execution_count": null,
   "metadata": {
    "collapsed": true
   },
   "outputs": [],
   "source": [
    "all_names = [\"static_mw\"] + [\"barred_mw_{}\".format(i) for i in range(1,10)]\n",
    "short_names = [\"static\"] + [\"bar{}\".format(i) for i in range(1,10)]\n",
    "name_map = dict(zip(all_names, short_names))"
   ]
  },
  {
   "cell_type": "markdown",
   "metadata": {},
   "source": [
    "## Mock streams"
   ]
  },
  {
   "cell_type": "code",
   "execution_count": null,
   "metadata": {
    "collapsed": false
   },
   "outputs": [],
   "source": [
    "# # name = 'static_mw'\n",
    "# name = 'barred_mw_2'\n",
    "# ix = 11\n",
    "\n",
    "# # global style stuff\n",
    "# style = dict(marker='o', ms=4, ls='none', alpha=0.25, color='#aaaaaa')\n",
    "# data_style = dict(marker='o', ms=5, ls='none', ecolor='#666666', alpha=0.75)\n",
    "\n",
    "# fig,axes = pl.subplots(2,1,figsize=(4,4.5),sharex=True,sharey='row')\n",
    "\n",
    "# pot = op.load_potential(name)\n",
    "# grid = MockStreamGrid.from_config(cache_path=os.path.join(RESULTSPATH, name, \"mockstream\"),\n",
    "#                                   config_filename=\"../../global_mockstream.cfg\",\n",
    "#                                   potential_name=name)\n",
    "# d = grid.read_cache()\n",
    "# w = gd.CartesianPhaseSpacePosition.from_w(d['w'][ix].T, units=pot.units)\n",
    "# model_c,model_v = w.to_frame(coord.Galactic, galactocentric_frame=galactocentric_frame, vcirc=vcirc, vlsr=vlsr)\n",
    "\n",
    "# ix = distance_ix(model_c.l, model_c.b, model_c.distance)\n",
    "# axes[0].plot(model_c.l[ix], model_c.b[ix], **style)\n",
    "# axes[1].plot(model_c.l[ix], galactic.decompose(model_v[2][ix]), **style)\n",
    "\n",
    "# _tmp = data_style.copy()\n",
    "# _tmp.pop('ecolor')\n",
    "# axes[0].plot(ophdata.coord.l.degree, ophdata.coord.b.degree, **_tmp)\n",
    "# axes[1].errorbar(ophdata.coord.l.degree, ophdata.veloc['vr'].to(u.km/u.s).value, \n",
    "#                  ophdata.veloc_err['vr'].to(u.km/u.s).value, **data_style)\n",
    "\n",
    "# axes[0].set_xlim(9,2)\n",
    "\n",
    "# axes[0].set_ylabel(\"$b$ [deg]\", fontsize=18)\n",
    "# axes[0].set_ylim(26.5, 32.5)\n",
    "\n",
    "# axes[1].set_ylabel(r\"$v_r$ [${\\rm km}\\,{\\rm s}^{-1}$]\", fontsize=18)\n",
    "# axes[1].set_ylim(225, 325)\n",
    "# axes[1].set_xlabel(\"$l$ [deg]\", fontsize=18)\n",
    "\n",
    "# fig.tight_layout()\n",
    "\n",
    "# fig.savefig(\"/Users/adrian/projects/talks/aas_ophiuchus_{}.png\".format(name), dpi=400)"
   ]
  },
  {
   "cell_type": "code",
   "execution_count": null,
   "metadata": {
    "collapsed": true
   },
   "outputs": [],
   "source": []
  },
  {
   "cell_type": "code",
   "execution_count": null,
   "metadata": {
    "collapsed": false
   },
   "outputs": [],
   "source": [
    "style = {\n",
    "    \"linestyle\": \"none\",\n",
    "    \"marker\": 'o',\n",
    "    \"markersize\": 3,\n",
    "    \"alpha\": 0.05,\n",
    "    \"color\": \"#555555\"\n",
    "}\n",
    "line_style = {\n",
    "    \"marker\": None, \n",
    "    \"linestyle\": '--', \n",
    "    \"color\": 'k', \n",
    "    \"linewidth\": 1.5, \n",
    "    \"dashes\": (3,2)\n",
    "}\n",
    "levels = [-2,-1,0,1]\n",
    "\n",
    "for k,name_group in enumerate([all_names[:5],all_names[5:]]):\n",
    "    fig,allaxes = pl.subplots(3, 5, figsize=(9,6.5), sharex='col', sharey='row')\n",
    "    for i,name in enumerate(name_group):\n",
    "        axes = allaxes[:,i]\n",
    "        \n",
    "        # path to file to cache the likelihoods\n",
    "        cache_file = os.path.join(RESULTSPATH, name, \"mockstream\", \"ln_likelihoods.npy\")\n",
    "        lls = np.load(cache_file)\n",
    "        best_ix = lls.sum(axis=1).argmax()\n",
    "    \n",
    "        pot, streams, prog = get_potential_stream_prog(name)\n",
    "        stream = streams[:,best_ix]\n",
    "        model_c,model_v = stream.to_frame(coord.Galactic, galactocentric_frame=galactocentric_frame, vcirc=vcirc, vlsr=vlsr)\n",
    "\n",
    "#         ix = distance_ix(model_c.l, model_c.distance) & (model_c.l > 0) & (model_c.l < 10*u.deg)\n",
    "        ix = (model_c.l > 0*u.deg) & (model_c.l < 11*u.deg) & (model_c.b > 25.5*u.deg) & (model_c.b < 34.5*u.deg)\n",
    "        axes[0].plot(model_c.l[ix], model_c.b[ix], **style)\n",
    "        axes[1].plot(model_c.l[ix], model_c.distance[ix], **style)\n",
    "        axes[2].plot(model_c.l[ix], galactic.decompose(model_v[2][ix]), **style)\n",
    "        \n",
    "        # l,b\n",
    "        axes[0].plot([3.8,3.8], [31.5,32.5], **line_style)\n",
    "        axes[0].plot([5.85,5.85], [30.,31], **line_style)\n",
    "        # l,d\n",
    "        axes[1].plot([3.8,3.8], [8.7,9.3], **line_style)\n",
    "        axes[1].plot([5.85,5.85], [7.2,7.8], **line_style)\n",
    "        # l,vr\n",
    "        axes[2].plot([3.8,3.8], [276,292], **line_style)\n",
    "        axes[2].plot([5.85,5.85], [284,300], **line_style)\n",
    "        \n",
    "        # Axis limits\n",
    "        axes[0].set_xlim(9.5,1.5)\n",
    "        axes[0].set_ylim(26.1, 32.9)\n",
    "        axes[1].set_ylim(5.3, 9.7)\n",
    "        axes[2].set_ylim(225, 325)\n",
    "        \n",
    "        # Text\n",
    "        axes[0].set_title(name_map[name], fontsize=20)\n",
    "        axes[2].set_xlabel(\"$l$ [deg]\", fontsize=18)\n",
    "        if i == 0:\n",
    "            axes[0].set_ylabel(\"$b$ [deg]\", fontsize=18)\n",
    "            axes[1].set_ylabel(r\"$d_\\odot$ [kpc]\", fontsize=18)\n",
    "            axes[2].set_ylabel(r\"$v_r$ [${\\rm km}\\,{\\rm s}^{-1}$]\", fontsize=18)\n",
    "    \n",
    "    fig.tight_layout()\n",
    "    \n",
    "    fig.savefig(os.path.join(plotpath, \"mockstream{}.pdf\".format(k)))\n",
    "    fig.savefig(os.path.join(plotpath, \"mockstream{}.png\".format(k)), dpi=400)"
   ]
  },
  {
   "cell_type": "code",
   "execution_count": null,
   "metadata": {
    "collapsed": false
   },
   "outputs": [],
   "source": [
    "corner_list"
   ]
  },
  {
   "cell_type": "code",
   "execution_count": null,
   "metadata": {
    "collapsed": false,
    "scrolled": false
   },
   "outputs": [],
   "source": [
    "fig,allaxes = pl.subplots(2, 5, figsize=(9,5), sharex=True, sharey=True)\n",
    "for k,name_group in enumerate([all_names[:5],all_names[5:]]):\n",
    "    for i,name in enumerate(name_group):\n",
    "        ax = allaxes[k,i]\n",
    "        \n",
    "        # path to file to cache the likelihoods\n",
    "        cache_file = os.path.join(RESULTSPATH, name, \"mockstream\", \"ln_likelihoods.npy\")\n",
    "        lls = np.load(cache_file)\n",
    "        best_ix = lls.sum(axis=1).argmax()\n",
    "    \n",
    "        pot, streams, prog = get_potential_stream_prog(name)\n",
    "        stream = streams[:,best_ix]\n",
    "        model_c,model_v = stream.to_frame(coord.Galactic, galactocentric_frame=galactocentric_frame, vcirc=vcirc, vlsr=vlsr)\n",
    "\n",
    "#         ix = distance_ix(model_c.l, model_c.distance) & (model_c.l > 0) & (model_c.l < 10*u.deg) | True\n",
    "        ix = np.ones(model_c.l.size).astype(bool)\n",
    "        ax.plot(stream.pos[0][ix], stream.pos[2][ix], **style)\n",
    "        \n",
    "        lbd_corners = np.vstack(map(np.ravel, np.meshgrid([1.5,9.5],[26.,33.],[5.3,9.7])))\n",
    "        corners_g = coord.Galactic(l=lbd_corners[0]*u.degree, b=lbd_corners[1]*u.degree, distance=lbd_corners[2]*u.kpc)\n",
    "        corners = corners_g.transform_to(galactocentric_frame).cartesian.xyz.value\n",
    "        \n",
    "#         corners = corners.reshape(3,2,2,2)[...,0].reshape(3,4)\n",
    "        # only pick 4 of the points to plot\n",
    "        corners = corners[:,corners[1] > 0.5][[0,2]]\n",
    "        \n",
    "        # compute centroid\n",
    "        cent = np.mean(corners, axis=1)\n",
    "        \n",
    "        # sort by polar angle\n",
    "        corner_list = corners.T.tolist()\n",
    "        corner_list.sort(key=lambda p: np.arctan2(p[1]-cent[1],p[0]-cent[0]))\n",
    "        \n",
    "        # plot polyline\n",
    "        poly = mpl.patches.Polygon(corner_list, closed=True, fill=False, color='#2166AC', linestyle='-')\n",
    "        ax.add_patch(poly)\n",
    "        \n",
    "#         ax.plot(corners[0], corners[2], ls='none', marker='o', markersize=4)\n",
    "#         ax.plot(-galactocentric_frame.galcen_distance, 0., marker='o', color='y', markersize=8)\n",
    "        ax.text(-galactocentric_frame.galcen_distance.value, 0., r\"$\\odot$\", fontsize=18, ha='center', va='center')\n",
    "        \n",
    "        # Text\n",
    "        ax.set_title(name_map[name], fontsize=20)\n",
    "    \n",
    "        if k == 1:\n",
    "            ax.set_xlabel(\"$x$ [kpc]\", fontsize=18)\n",
    "        \n",
    "#         break\n",
    "#     break\n",
    "    \n",
    "# Axis limits\n",
    "ax.set_xlim(-10,5)\n",
    "ax.set_ylim(-7.5,7.5)\n",
    "\n",
    "ax.xaxis.set_ticks([-8,-4,0,4])\n",
    "ax.yaxis.set_ticks([-4,0,4])\n",
    "\n",
    "allaxes[0,0].set_ylabel(\"$z$ [kpc]\", fontsize=18)\n",
    "allaxes[1,0].set_ylabel(\"$z$ [kpc]\", fontsize=18)\n",
    "\n",
    "fig.tight_layout()\n",
    "    \n",
    "fig.savefig(os.path.join(plotpath, \"mockstream-xyz.pdf\"))\n",
    "fig.savefig(os.path.join(plotpath, \"mockstream-xyz.png\"), dpi=400)"
   ]
  },
  {
   "cell_type": "code",
   "execution_count": null,
   "metadata": {
    "collapsed": true
   },
   "outputs": [],
   "source": []
  }
 ],
 "metadata": {
  "kernelspec": {
   "display_name": "Python 3",
   "language": "python",
   "name": "python3"
  },
  "language_info": {
   "codemirror_mode": {
    "name": "ipython",
    "version": 3
   },
   "file_extension": ".py",
   "mimetype": "text/x-python",
   "name": "python",
   "nbconvert_exporter": "python",
   "pygments_lexer": "ipython3",
   "version": "3.5.1"
  }
 },
 "nbformat": 4,
 "nbformat_minor": 0
}