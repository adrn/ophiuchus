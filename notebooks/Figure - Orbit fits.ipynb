{
 "cells": [
  {
   "cell_type": "code",
   "execution_count": null,
   "metadata": {
    "collapsed": false
   },
   "outputs": [],
   "source": [
    "from __future__ import division, print_function\n",
    "import os\n",
    "import sys\n",
    "from six.moves import cPickle as pickle\n",
    "\n",
    "# Third-party\n",
    "import astropy.coordinates as coord\n",
    "import astropy.units as u\n",
    "uno = u.dimensionless_unscaled\n",
    "import matplotlib as mpl\n",
    "import matplotlib.pyplot as pl\n",
    "pl.style.use('apw-notebook')\n",
    "%matplotlib inline\n",
    "import numpy as np\n",
    "\n",
    "# Custom\n",
    "importgala.coordinates as gc\n",
    "importgala.dynamics as gd\n",
    "importgala.integrate as gi\n",
    "importgala.potential as gp\n",
    "fromgala.units import galactic\n",
    "from scipy.signal import argrelmin\n",
    "\n",
    "import ophiuchus.potential as op\n",
    "from ophiuchus.data import OphiuchusData\n",
    "from ophiuchus.util import integrate_forward_backward\n",
    "from ophiuchus.coordinates import Ophiuchus\n",
    "from ophiuchus import galactocentric_frame, vcirc, vlsr, RESULTSPATH\n",
    "\n",
    "plotpath = \"/Users/adrian/projects/ophiuchus-paper/figures/\"\n",
    "if not os.path.exists(plotpath):\n",
    "    os.mkdir(plotpath)"
   ]
  },
  {
   "cell_type": "code",
   "execution_count": null,
   "metadata": {
    "collapsed": false
   },
   "outputs": [],
   "source": [
    "ophdata = OphiuchusData()\n",
    "ophdata_fit = OphiuchusData(\"(source == b'Sesar2015a') | (Name == b'cand9') | (Name == b'cand14')\")\n",
    "ophdata_fan = OphiuchusData(\"(source == b'Sesar2015b') & (Name != b'cand9') & (Name != b'cand14')\")\n",
    "all_names = [\"static_mw\"] + [\"barred_mw_{}\".format(i) for i in range(1,10)]\n",
    "short_names = [\"static\"] + [\"bar{}\".format(i) for i in range(1,10)]\n",
    "name_map = dict(zip(all_names, short_names))"
   ]
  },
  {
   "cell_type": "markdown",
   "metadata": {},
   "source": [
    "---\n",
    "\n",
    "Added 29 April 2016"
   ]
  },
  {
   "cell_type": "code",
   "execution_count": null,
   "metadata": {
    "collapsed": false
   },
   "outputs": [],
   "source": [
    "names = ['name', 'ra', 'dec', 'vlos', 'vlos_err']\n",
    "all_bhb = np.genfromtxt(\"/Users/adrian/projects/ophiuchus/allstars.txt\", usecols=range(5), names=names, dtype=None)\n",
    "all_bhb_c = coord.ICRS(ra=all_bhb['ra']*u.degree, dec=all_bhb['dec']*u.degree)\n",
    "all_bhb_c = all_bhb_c.transform_to(coord.Galactic)"
   ]
  },
  {
   "cell_type": "code",
   "execution_count": null,
   "metadata": {
    "collapsed": false
   },
   "outputs": [],
   "source": [
    "# global style stuff\n",
    "orbit_style = dict(marker=None, color='k', alpha=0.05)\n",
    "data_style = dict(marker='o', ms=4, ls='none', alpha=0.9, color='#2166AC', \n",
    "                  markeredgecolor='k', markeredgewidth=0.5)\n",
    "data_b_style = data_style.copy()\n",
    "data_b_style['color'] = \"#2166AC\"\n",
    "data_b_style['marker'] = \"s\"\n",
    "\n",
    "fig,axes = pl.subplots(2,1,figsize=(4,4.5),sharex=True,sharey='row')\n",
    "\n",
    "name = 'static_mw'\n",
    "axes[1].set_xlabel(\"$l$ [deg]\", fontsize=18)\n",
    "\n",
    "path = os.path.join(RESULTSPATH, name, 'orbitfit')\n",
    "w0 = np.load(os.path.join(path, 'w0.npy'))[:128].T\n",
    "pot = op.load_potential(name)\n",
    "\n",
    "orbit = integrate_forward_backward(pot, w0, t_forw=20., t_back=-20)\n",
    "orbit_c,orbit_v = orbit.to_frame(coord.Galactic, galactocentric_frame=galactocentric_frame,\n",
    "                                 vcirc=vcirc, vlsr=vlsr)\n",
    "orbit_l = orbit_c.l.wrap_at(180*u.deg)\n",
    "\n",
    "orbit_oph = orbit_c.transform_to(Ophiuchus)\n",
    "vr = (orbit_v[2].to(u.km/u.s)).value\n",
    "\n",
    "# sky\n",
    "axes[0].plot(ophdata_fit.coord.l.degree, ophdata_fit.coord.b.degree, **data_style)\n",
    "axes[0].plot(ophdata_fan.coord.l.degree, ophdata_fan.coord.b.degree, **data_b_style)\n",
    "axes[0].plot(all_bhb_c.l.degree, all_bhb_c.b.degree, ls='none', color='#666666', marker='o', alpha=0.4)\n",
    "axes[0].yaxis.set_ticks(np.arange(27,32+1))\n",
    "\n",
    "# radial velocity\n",
    "axes[1].plot(ophdata_fit.coord.l.degree, ophdata_fit.veloc['vr'].to(u.km/u.s).value, **data_style)\n",
    "axes[1].plot(ophdata_fan.coord.l.degree, ophdata_fan.veloc['vr'].to(u.km/u.s).value, **data_b_style)\n",
    "axes[1].plot(all_bhb_c.l.degree, all_bhb['vlos'], ls='none', color='#666666', marker='o', alpha=0.4)\n",
    "# axes[1].yaxis.set_ticks(np.arange(-300,300+1,100)) # 1\n",
    "axes[1].yaxis.set_ticks(np.arange(225,325+1,25)) # 2\n",
    "\n",
    "axes[0].set_xlim(9,2)\n",
    "\n",
    "axes[0].set_ylabel(\"$b$ [deg]\", fontsize=18)\n",
    "axes[0].set_ylim(26.5, 32.5)\n",
    "\n",
    "axes[1].set_ylabel(r\"$v_r$ [${\\rm km}\\,{\\rm s}^{-1}$]\", fontsize=18)\n",
    "# axes[1].set_ylim(-250, 350) # 1\n",
    "axes[1].set_ylim(200, 350) # 2\n",
    "\n",
    "# fig.tight_layout()\n",
    "fig.subplots_adjust(left=0.3, right=0.98, top=0.96, bottom=0.15)\n",
    "\n",
    "fig.savefig(\"/Users/adrian/projects/talks/thesis_colloquium/ophiuchus2.png\", dpi=400)"
   ]
  },
  {
   "cell_type": "markdown",
   "metadata": {},
   "source": [
    "----"
   ]
  },
  {
   "cell_type": "code",
   "execution_count": null,
   "metadata": {
    "collapsed": false
   },
   "outputs": [],
   "source": [
    "# global style stuff\n",
    "orbit_style = dict(marker=None, color='#2166AC', alpha=0.05)\n",
    "data_style = dict(marker='o', ms=6, ls='none', ecolor='#333333', alpha=0.75)\n",
    "data_b_style = data_style.copy()\n",
    "data_b_style['color'] = \"#666666\"\n",
    "data_b_style['marker'] = \"s\"\n",
    "        \n",
    "fig,axes = pl.subplots(3,2,figsize=(6,7.5),sharex=True,sharey='row')\n",
    "\n",
    "for i,name in enumerate(all_names[:2]):\n",
    "    axes[0,i].set_title(name_map[name], fontsize=20)\n",
    "    axes[2,i].set_xlabel(\"$l$ [deg]\", fontsize=18)\n",
    "    \n",
    "    axes[0,i].set_aspect('equal')\n",
    "\n",
    "    path = os.path.join(RESULTSPATH, name, 'orbitfit')\n",
    "    w0 = np.load(os.path.join(path, 'w0.npy'))[:128].T\n",
    "    pot = op.load_potential(name)\n",
    "\n",
    "    orbit = integrate_forward_backward(pot, w0, t_forw=20., t_back=-20)\n",
    "\n",
    "    orbit_c,orbit_v = orbit.to_frame(coord.Galactic, galactocentric_frame=galactocentric_frame,\n",
    "                                     vcirc=vcirc, vlsr=vlsr)\n",
    "    orbit_l = orbit_c.l.wrap_at(180*u.deg)\n",
    "    \n",
    "    orbit_oph = orbit_c.transform_to(Ophiuchus)\n",
    "    vr = (orbit_v[2].to(u.km/u.s)).value\n",
    "\n",
    "    # sky\n",
    "    _tmp = data_style.copy(); _tmp.pop('ecolor')\n",
    "    axes[0,i].plot(ophdata_fit.coord.l.degree, ophdata_fit.coord.b.degree, **_tmp)\n",
    "    _tmp = data_b_style.copy(); _tmp.pop('ecolor')\n",
    "    axes[0,i].plot(ophdata_fan.coord.l.degree, ophdata_fan.coord.b.degree, **_tmp)\n",
    "    axes[0,i].plot(orbit_l.degree, orbit_c.b.degree, **orbit_style)\n",
    "    axes[0,i].yaxis.set_ticks(np.arange(27,32+1))\n",
    "\n",
    "    # distance\n",
    "    axes[1,i].errorbar(ophdata_fit.coord.l.degree, ophdata_fit.coord.distance.to(u.kpc).value, \n",
    "                       ophdata_fit.coord_err['distance'].to(u.kpc).value, **data_style)\n",
    "    axes[1,i].errorbar(ophdata_fan.coord.l.degree, ophdata_fan.coord.distance.to(u.kpc).value, \n",
    "                       ophdata_fan.coord_err['distance'].to(u.kpc).value, **data_b_style)\n",
    "    axes[1,i].plot(orbit_l.degree, orbit_c.distance.to(u.kpc).value, **orbit_style)\n",
    "    axes[1,i].yaxis.set_ticks(np.arange(6,9+1))\n",
    "\n",
    "    # radial velocity\n",
    "    axes[2,i].errorbar(ophdata_fit.coord.l.degree, ophdata_fit.veloc['vr'].to(u.km/u.s).value, \n",
    "                       ophdata_fit.veloc_err['vr'].to(u.km/u.s).value, **data_style)\n",
    "    axes[2,i].errorbar(ophdata_fan.coord.l.degree, ophdata_fan.veloc['vr'].to(u.km/u.s).value, \n",
    "                       ophdata_fan.veloc_err['vr'].to(u.km/u.s).value, **data_b_style)\n",
    "    axes[2,i].plot(orbit_l.degree, np.vstack(vr), **orbit_style)\n",
    "    axes[2,i].yaxis.set_ticks(np.arange(230,320+1,30))\n",
    "\n",
    "axes[0,0].set_xlim(9,2)\n",
    "\n",
    "axes[0,0].set_ylabel(\"$b$ [deg]\", fontsize=18)\n",
    "axes[0,0].set_ylim(26.5, 32.5)\n",
    "\n",
    "axes[1,0].set_ylabel(r\"$d_\\odot$ [kpc]\", fontsize=18)\n",
    "axes[1,0].set_ylim(5.5, 9.5)\n",
    "\n",
    "axes[2,0].set_ylabel(r\"$v_r$ [${\\rm km}\\,{\\rm s}^{-1}$]\", fontsize=18)\n",
    "axes[2,0].set_ylim(225, 325)\n",
    "\n",
    "fig.tight_layout()\n",
    "\n",
    "fig.savefig(os.path.join(plotpath, \"orbitfits.pdf\"))\n",
    "fig.savefig(os.path.join(plotpath, \"orbitfits.png\"), dpi=400)"
   ]
  },
  {
   "cell_type": "code",
   "execution_count": null,
   "metadata": {
    "collapsed": false
   },
   "outputs": [],
   "source": [
    "# global style stuff\n",
    "orbit_style = dict(marker=None, color='#2166AC', alpha=0.05)\n",
    "data_style = dict(marker='o', ms=6, ls='none', ecolor='#333333', alpha=0.75)\n",
    "data_b_style = data_style.copy()\n",
    "data_b_style['color'] = \"#666666\"\n",
    "data_b_style['marker'] = \"s\"\n",
    "        \n",
    "fig,axes = pl.subplots(2,2,figsize=(6,6),sharex=True,sharey='row')\n",
    "\n",
    "for i,name in enumerate(all_names[:2]):\n",
    "    axes[0,i].set_title(name_map[name], fontsize=20)\n",
    "    axes[1,i].set_xlabel(\"$l$ [deg]\", fontsize=18)\n",
    "\n",
    "    path = os.path.join(RESULTSPATH, name, 'orbitfit')\n",
    "    w0 = np.load(os.path.join(path, 'w0.npy'))[:128].T\n",
    "    pot = op.load_potential(name)\n",
    "\n",
    "    orbit = integrate_forward_backward(pot, w0, t_forw=20., t_back=-20)\n",
    "\n",
    "    orbit_c,orbit_v = orbit.to_frame(coord.Galactic, galactocentric_frame=galactocentric_frame,\n",
    "                                     vcirc=vcirc, vlsr=vlsr)\n",
    "    orbit_l = orbit_c.l.wrap_at(180*u.deg)\n",
    "    \n",
    "    orbit_oph = orbit_c.transform_to(Ophiuchus)\n",
    "    mul = galactic.decompose(orbit_v[0]).value\n",
    "    mub = galactic.decompose(orbit_v[1]).value\n",
    "\n",
    "    # proper motion\n",
    "    axes[0,i].errorbar(ophdata_fit.coord.l.degree, galactic.decompose(ophdata_fit.veloc['mul']).value,\n",
    "                       galactic.decompose(ophdata_fit.veloc_err['mul']).value, **data_style)\n",
    "    axes[0,i].plot(orbit_l.degree, np.vstack(mul), **orbit_style)\n",
    "#     axes[0,i].yaxis.set_ticks(np.arange(230,320+1,30))\n",
    "    \n",
    "    # mub\n",
    "    axes[1,i].errorbar(ophdata_fit.coord.l.degree, galactic.decompose(ophdata_fit.veloc['mub']).value,\n",
    "                       galactic.decompose(ophdata_fit.veloc_err['mub']).value, **data_style)\n",
    "    axes[1,i].plot(orbit_l.degree, np.vstack(mub), **orbit_style)\n",
    "\n",
    "axes[0,0].set_xlim(9,2)\n",
    "axes[0,0].set_ylim(-12,-2)\n",
    "axes[1,0].set_ylim(-2,8)\n",
    "\n",
    "axes[0,0].set_ylabel(r\"$\\mu_l$ [${\\rm mas}\\,{\\rm yr}^{-1}$]\", fontsize=18)\n",
    "axes[1,0].set_ylabel(r\"$\\mu_b$ [${\\rm mas}\\,{\\rm yr}^{-1}$]\", fontsize=18)\n",
    "\n",
    "fig.tight_layout()\n",
    "\n",
    "fig.savefig(os.path.join(plotpath, \"orbitfits-pm.pdf\"))\n",
    "fig.savefig(os.path.join(plotpath, \"orbitfits-pm.png\"), dpi=400)"
   ]
  },
  {
   "cell_type": "markdown",
   "metadata": {},
   "source": [
    "### Plot mean orbits in XYZ"
   ]
  },
  {
   "cell_type": "code",
   "execution_count": null,
   "metadata": {
    "collapsed": false
   },
   "outputs": [],
   "source": [
    "split_ix = 350\n",
    "every = 50\n",
    "\n",
    "mean_w0s = np.zeros((len(all_names), 6))\n",
    "for i,name in enumerate(all_names):\n",
    "    with open(os.path.join(RESULTSPATH, name, 'orbitfit', 'sampler.pickle'), 'rb') as f:\n",
    "        sampler = pickle.load(f)\n",
    "    _x0 = np.vstack(sampler.chain[:,split_ix::every,:5])\n",
    "    mean_x0 = np.mean(_x0, axis=0)\n",
    "    std_x0 = np.std(_x0, axis=0)\n",
    "    \n",
    "    transforms = [\n",
    "        lambda x: np.degrees(x),\n",
    "        lambda x: x,\n",
    "        lambda x: (x*u.radian/u.Myr).to(u.mas/u.yr).value,\n",
    "        lambda x: (x*u.radian/u.Myr).to(u.mas/u.yr).value,\n",
    "        lambda x: (x*u.kpc/u.Myr).to(u.km/u.s).value\n",
    "    ]\n",
    "    cols = []\n",
    "    for j,_mean,_std in zip(range(len(mean_x0)), mean_x0, std_x0):\n",
    "        cols.append(\"{:.3f} {:.3f}\".format(transforms[j](_mean), transforms[j](_std)))\n",
    "    print(\" & \".join(cols))\n",
    "    \n",
    "    mul = (mean_x0[2]*u.radian/u.Myr).to(u.mas/u.yr).value\n",
    "    \n",
    "    \n",
    "    mean_w0s[i] = ophdata._mcmc_sample_to_w0(mean_x0)[:,0]"
   ]
  },
  {
   "cell_type": "code",
   "execution_count": null,
   "metadata": {
    "collapsed": false
   },
   "outputs": [],
   "source": [
    "split_ix = 350\n",
    "every = 50\n",
    "\n",
    "for i,name in enumerate(all_names):\n",
    "    with open(os.path.join(RESULTSPATH, name, 'orbitfit', 'sampler.pickle'), 'rb') as f:\n",
    "        sampler = pickle.load(f)\n",
    "    _x0 = np.vstack(sampler.chain[:,split_ix::every,5:])\n",
    "    mean_x0 = np.mean(_x0, axis=0)\n",
    "    print(\"{:.2f} {:.2f} {:.2f}\".format((mean_x0[0]*u.radian).to(u.deg), mean_x0[1], (mean_x0[2]*u.kpc/u.Myr).to(u.km/u.s)))\n",
    "    std_x0 = np.std(_x0, axis=0)\n",
    "    print(\"{:.2f} {:.2f} {:.2f}\".format((std_x0[0]*u.radian).to(u.deg), std_x0[1], (std_x0[2]*u.kpc/u.Myr).to(u.km/u.s)))\n",
    "    print()"
   ]
  },
  {
   "cell_type": "code",
   "execution_count": null,
   "metadata": {
    "collapsed": true
   },
   "outputs": [],
   "source": [
    "_tmp_cache = dict()"
   ]
  },
  {
   "cell_type": "code",
   "execution_count": null,
   "metadata": {
    "collapsed": false
   },
   "outputs": [],
   "source": [
    "fig,axes = pl.subplots(2,5,figsize=(9,5),sharex=True,sharey=True)\n",
    "for i,name in enumerate(all_names):\n",
    "    this_w0 = mean_w0s[i]\n",
    "    pot = op.load_potential(name)\n",
    "    \n",
    "    if name not in _tmp_cache:\n",
    "        print(\"integrating\")\n",
    "        orbit = pot.integrate_orbit(this_w0, dt=-1., nsteps=6000., Integrator=gi.DOPRI853Integrator)\n",
    "        _tmp_cache[name] = orbit\n",
    "    else:\n",
    "        orbit = _tmp_cache[name]\n",
    "    \n",
    "    print(orbit.pericenter(), orbit.apocenter())\n",
    "    \n",
    "    axes.flat[i].plot(orbit.pos[1], orbit.pos[2], marker=None)\n",
    "    axes.flat[i].set_title(name_map[name], fontsize=18)\n",
    "\n",
    "    if i > 4:\n",
    "        axes.flat[i].set_xlabel(\"$y$ [kpc]\", fontsize=18)\n",
    "\n",
    "axes[0,0].set_ylabel(\"$z$ [kpc]\", fontsize=18)\n",
    "axes[1,0].set_ylabel(\"$z$ [kpc]\", fontsize=18)\n",
    "\n",
    "_s = 17\n",
    "axes[0,0].set_xlim(-_s,_s)\n",
    "axes[0,0].set_ylim(-_s,_s)\n",
    "\n",
    "axes[0,0].xaxis.set_ticks([-10,0,10])\n",
    "axes[0,0].yaxis.set_ticks([-10,0,10])\n",
    "\n",
    "fig.tight_layout()\n",
    "\n",
    "fig.savefig(os.path.join(plotpath, \"orbit-yz.png\"), dpi=300)\n",
    "fig.savefig(os.path.join(plotpath, \"orbit-yz.pdf\"))"
   ]
  },
  {
   "cell_type": "code",
   "execution_count": null,
   "metadata": {
    "collapsed": false,
    "scrolled": false
   },
   "outputs": [],
   "source": [
    "for i,name in enumerate(all_names):\n",
    "    orbit = _tmp_cache[name]\n",
    "    \n",
    "    pl.figure()\n",
    "    pl.plot(orbit.t, np.sqrt(np.sum(orbit.pos**2,axis=0)))\n",
    "    pl.plot(orbit.t, np.abs(orbit.pos[2]))\n",
    "    pl.xlim(-600,10)"
   ]
  },
  {
   "cell_type": "code",
   "execution_count": null,
   "metadata": {
    "collapsed": true
   },
   "outputs": [],
   "source": []
  },
  {
   "cell_type": "code",
   "execution_count": null,
   "metadata": {
    "collapsed": true
   },
   "outputs": [],
   "source": []
  },
  {
   "cell_type": "code",
   "execution_count": null,
   "metadata": {
    "collapsed": true
   },
   "outputs": [],
   "source": []
  },
  {
   "cell_type": "code",
   "execution_count": null,
   "metadata": {
    "collapsed": true
   },
   "outputs": [],
   "source": []
  },
  {
   "cell_type": "markdown",
   "metadata": {},
   "source": [
    "--- \n",
    "\n",
    "### Old plots"
   ]
  },
  {
   "cell_type": "code",
   "execution_count": null,
   "metadata": {
    "collapsed": true
   },
   "outputs": [],
   "source": [
    "# global style stuff\n",
    "orbit_style = dict(marker=None, color='#2166AC', alpha=0.05)\n",
    "data_style = dict(marker='o', ms=4, ls='none', ecolor='#666666', alpha=0.75)\n",
    "        \n",
    "for n,name_subset in enumerate([all_names[:5], all_names[5:]]):\n",
    "    fig,axes = pl.subplots(3,5,figsize=(9,6.5),sharex=True,sharey='row')\n",
    "\n",
    "    for i,name in enumerate(name_subset):\n",
    "        axes[0,i].set_title(name_map[name], fontsize=20)\n",
    "        axes[2,i].set_xlabel(\"$l$ [deg]\", fontsize=18)\n",
    "\n",
    "        path = os.path.join(RESULTSPATH, name, 'orbitfit')\n",
    "        w0 = np.load(os.path.join(path, 'w0.npy'))[:128].T\n",
    "        pot = op.load_potential(name)\n",
    "    \n",
    "        orbit = integrate_forward_backward(pot, w0, t_forw=16., t_back=-10)\n",
    "        \n",
    "        orbit_c,orbit_v = orbit.to_frame(coord.Galactic, galactocentric_frame=galactocentric_frame,\n",
    "                                         vcirc=vcirc, vlsr=vlsr)\n",
    "        orbit_oph = orbit_c.transform_to(Ophiuchus)\n",
    "        vr = (orbit_v[2].to(u.km/u.s)).value\n",
    "\n",
    "        # sky\n",
    "        _tmp = data_style.copy()\n",
    "        _tmp.pop('ecolor')\n",
    "        axes[0,i].plot(ophdata.coord.l.degree, ophdata.coord.b.degree, **_tmp)\n",
    "        axes[0,i].plot(orbit_c.l.degree, orbit_c.b.degree, **orbit_style)\n",
    "        axes[0,i].yaxis.set_ticks(np.arange(27,32+1))\n",
    "\n",
    "        # distance\n",
    "        axes[1,i].errorbar(ophdata.coord.l.degree, ophdata.coord.distance.to(u.kpc).value, \n",
    "                           ophdata.coord_err['distance'].to(u.kpc).value, **data_style)\n",
    "        axes[1,i].plot(orbit_c.l.degree, orbit_c.distance.to(u.kpc).value, **orbit_style)\n",
    "        axes[1,i].yaxis.set_ticks(np.arange(6,9+1))\n",
    "\n",
    "        # radial velocity\n",
    "        axes[2,i].errorbar(ophdata.coord.l.degree, ophdata.veloc['vr'].to(u.km/u.s).value, \n",
    "                           ophdata.veloc_err['vr'].to(u.km/u.s).value, **data_style)\n",
    "        axes[2,i].plot(orbit_c.l.degree, np.vstack(vr), **orbit_style)\n",
    "        axes[2,i].yaxis.set_ticks(np.arange(230,320+1,30))\n",
    "\n",
    "    axes[0,0].set_xlim(9,2)\n",
    "\n",
    "    axes[0,0].set_ylabel(\"$b$ [deg]\", fontsize=18)\n",
    "    axes[0,0].set_ylim(26.5, 32.5)\n",
    "\n",
    "    axes[1,0].set_ylabel(r\"$d_\\odot$ [kpc]\", fontsize=18)\n",
    "    axes[1,0].set_ylim(5.5, 9.5)\n",
    "\n",
    "    axes[2,0].set_ylabel(r\"$v_r$ [${\\rm km}\\,{\\rm s}^{-1}$]\", fontsize=18)\n",
    "    axes[2,0].set_ylim(225, 325)\n",
    "\n",
    "    fig.tight_layout()\n",
    "    \n",
    "#     fig.savefig(os.path.join(plotpath, \"orbitfits-{}.pdf\".format(n)))\n",
    "#     fig.savefig(os.path.join(plotpath, \"orbitfits-{}.png\".format(n)))"
   ]
  }
 ],
 "metadata": {
  "kernelspec": {
   "display_name": "Environment (ophiuchus)",
   "language": "",
   "name": "ophiuchus"
  },
  "language_info": {
   "codemirror_mode": {
    "name": "ipython",
    "version": 3
   },
   "file_extension": ".py",
   "mimetype": "text/x-python",
   "name": "python",
   "nbconvert_exporter": "python",
   "pygments_lexer": "ipython3",
   "version": "3.5.1"
  }
 },
 "nbformat": 4,
 "nbformat_minor": 0
}