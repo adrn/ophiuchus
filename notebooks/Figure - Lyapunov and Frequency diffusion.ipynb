{
 "cells": [
  {
   "cell_type": "markdown",
   "metadata": {},
   "source": [
    "From HWR: I could imagine that showing the posterior samples in the t_orbit (radial period?) t_L plane, color-coded  by the pattern speed of the bar might tell the story more strikingly."
   ]
  },
  {
   "cell_type": "code",
   "execution_count": null,
   "metadata": {
    "collapsed": false
   },
   "outputs": [],
   "source": [
    "from __future__ import division, print_function\n",
    "import os\n",
    "import sys\n",
    "from six.moves import cPickle as pickle\n",
    "\n",
    "# Third-party\n",
    "import astropy.coordinates as coord\n",
    "import astropy.units as u\n",
    "uno = u.dimensionless_unscaled\n",
    "import matplotlib as mpl\n",
    "import matplotlib.pyplot as pl\n",
    "%matplotlib inline\n",
    "import numpy as np\n",
    "from scipy.signal import argrelmax, argrelmin\n",
    "\n",
    "# Custom\n",
    "import gary.coordinates as gc\n",
    "import gary.dynamics as gd\n",
    "import gary.integrate as gi\n",
    "import gary.potential as gp\n",
    "from gary.units import galactic\n",
    "import superfreq\n",
    "\n",
    "from ophiuchus import RESULTSPATH\n",
    "import ophiuchus.potential as op\n",
    "from ophiuchus.data import OphiuchusData\n",
    "from ophiuchus.plot import plot_data_orbit\n",
    "from ophiuchus.experiments import LyapunovGrid\n",
    "\n",
    "plotpath = \"/Users/adrian/projects/ophiuchus-paper/figures/\""
   ]
  },
  {
   "cell_type": "code",
   "execution_count": null,
   "metadata": {
    "collapsed": true
   },
   "outputs": [],
   "source": [
    "ophdata = OphiuchusData()"
   ]
  },
  {
   "cell_type": "code",
   "execution_count": null,
   "metadata": {
    "collapsed": true
   },
   "outputs": [],
   "source": [
    "all_names = [\"static_mw\"] + [\"barred_mw_{}\".format(i) for i in range(1,10)]\n",
    "short_names = [\"static\"] + [\"bar{}\".format(i) for i in range(1,10)]\n",
    "name_map = dict(zip(all_names, short_names))"
   ]
  },
  {
   "cell_type": "markdown",
   "metadata": {},
   "source": [
    "## Lyapunov histogram"
   ]
  },
  {
   "cell_type": "code",
   "execution_count": null,
   "metadata": {
    "collapsed": false
   },
   "outputs": [],
   "source": [
    "# name = 'barred_mw_1'\n",
    "# gr = LyapunovGrid.from_config(os.path.join(RESULTSPATH,name,\"lyapunov\"), \n",
    "#                               os.path.join(RESULTSPATH,\"global_lyapunov.cfg\"),\n",
    "#                               potential_name=name)\n",
    "# d = gr.read_cache()\n",
    "# 1/d['mle_end']/1000."
   ]
  },
  {
   "cell_type": "code",
   "execution_count": null,
   "metadata": {
    "collapsed": false
   },
   "outputs": [],
   "source": [
    "name = 'static_mw'\n",
    "# bins = np.linspace(0.3,1.1,12)*u.Gyr\n",
    "\n",
    "gr = LyapunovGrid.from_config(os.path.join(RESULTSPATH,name,\"lyapunov\"), \n",
    "                              os.path.join(RESULTSPATH,\"global_lyapunov.cfg\"),\n",
    "                              potential_name=name)\n",
    "d = gr.read_cache()\n",
    "ftmle = (d['mle_end']*1/u.Myr)\n",
    "lyap_time = (1/ftmle).to(u.Myr)\n",
    "\n",
    "pl.hist(lyap_time, bins=16)"
   ]
  },
  {
   "cell_type": "code",
   "execution_count": null,
   "metadata": {
    "collapsed": false
   },
   "outputs": [],
   "source": [
    "fig,axes = pl.subplots(3,3,figsize=(7,7), sharex=True, sharey=True)\n",
    "\n",
    "bins = np.linspace(0.3,1.1,12)*u.Gyr\n",
    "for i,name in enumerate(all_names[1:]):\n",
    "    gr = LyapunovGrid.from_config(os.path.join(RESULTSPATH,name,\"lyapunov\"), \n",
    "                                  os.path.join(RESULTSPATH,\"global_lyapunov.cfg\"),\n",
    "                                  potential_name=name)\n",
    "    d = gr.read_cache()\n",
    "    ftmle = (d['mle_avg']*1/u.Myr)\n",
    "    lyap_time = (1/ftmle).to(u.Myr)\n",
    "    \n",
    "    axes.flat[i].hist(lyap_time, bins=bins.to(u.Myr))\n",
    "#     axes.flat[i].set_title(name_map[name], fontsize=18)\n",
    "    axes.flat[i].text(1100, 45, name_map[name], fontsize=18, ha='right')\n",
    "#     axes.flat[i].axvline(lyap_time[0].value, color='#2b8cbe', linestyle='dashed', lw=2., ymax=37/50*1)\n",
    "    \n",
    "#     if i > 5:\n",
    "#         axes.flat[i].set_xlabel(r\"$t_\\lambda$ [Myr]\", fontsize=18)\n",
    "\n",
    "axes[0,0].set_xlim(300,1200)\n",
    "axes[0,0].xaxis.set_ticks([400,750,1100])\n",
    "axes[0,0].yaxis.set_ticks([0,20,40,60])\n",
    "\n",
    "axes[1,0].set_ylabel('$N$')\n",
    "axes[2,1].set_xlabel(r\"$t_\\lambda$ [Myr]\", fontsize=18)\n",
    "axes[0,1].set_title(r\"Larger pattern speed $\\longrightarrow$\", fontsize=18, y=1.04)\n",
    "axes[1,2].set_ylabel(r\"$\\longleftarrow$ Larger bar angle\", fontsize=18, labelpad=10)\n",
    "axes[1,2].yaxis.set_label_position(\"right\")\n",
    "\n",
    "# fig.savefig(os.path.join(plotpath, \"lyapunov-hist.png\"), dpi=300)\n",
    "# fig.savefig(os.path.join(plotpath, \"lyapunov-hist.pdf\"))"
   ]
  },
  {
   "cell_type": "markdown",
   "metadata": {},
   "source": [
    "---"
   ]
  },
  {
   "cell_type": "code",
   "execution_count": null,
   "metadata": {
    "collapsed": false
   },
   "outputs": [],
   "source": [
    "all_lyap_times = np.array([])\n",
    "all_periods = np.array([])\n",
    "all_Omega = np.array([])\n",
    "\n",
    "for i,name in enumerate(all_names[1:]):\n",
    "    print(name)\n",
    "    # integrate and estimate periods\n",
    "    w0 = np.load(os.path.join(RESULTSPATH,name,\"orbitfit\",\"w0.npy\"))[:127]\n",
    "    pot = op.load_potential(name)\n",
    "    orbits = pot.integrate_orbit(w0.T, dt=-1, nsteps=1000, Integrator=gi.DOPRI853Integrator)\n",
    "    periods = np.abs([orbits[:,i].estimate_period().value for i in range(127)])*u.Myr\n",
    "    \n",
    "    # read lyapunov times\n",
    "    gr = LyapunovGrid.from_config(os.path.join(RESULTSPATH,name,\"lyapunov\"), \n",
    "                                  os.path.join(RESULTSPATH,\"global_lyapunov.cfg\"),\n",
    "                                  potential_name=name)\n",
    "    d = gr.read_cache()\n",
    "    ftmle = (d['mle_avg']*1/u.Myr)\n",
    "    lyap_times = (1/ftmle).to(u.Myr)\n",
    "    \n",
    "    # color by pattern speed\n",
    "    Omega = np.zeros_like(periods.value) + pot.parameters['bar']['Omega']\n",
    "    \n",
    "    all_lyap_times = np.concatenate((all_lyap_times, lyap_times.value))\n",
    "    all_periods = np.concatenate((all_periods, periods.value))\n",
    "    all_Omega = np.concatenate((all_Omega, Omega))"
   ]
  },
  {
   "cell_type": "code",
   "execution_count": null,
   "metadata": {
    "collapsed": false
   },
   "outputs": [],
   "source": [
    "pl.hist(all_lyap_times, bins=np.linspace(400,1500,32))"
   ]
  },
  {
   "cell_type": "code",
   "execution_count": null,
   "metadata": {
    "collapsed": false
   },
   "outputs": [],
   "source": [
    "fig,ax = pl.subplots(1,1,figsize=(7,7))\n",
    "\n",
    "c = ax.scatter(all_lyap_times, all_periods, c=all_Omega)\n",
    "fig.colorbar(c)\n",
    "pl.xlim(400,1000)\n",
    "\n",
    "#     axes.flat[i].text(1100, 45, name_map[name], fontsize=18, ha='right')\n",
    "#     axes.flat[i].axvline(lyap_time[0].value, color='#2b8cbe', linestyle='dashed', lw=2., ymax=37/50*1)\n",
    "    \n",
    "#     if i > 5:\n",
    "#         axes.flat[i].set_xlabel(r\"$t_\\lambda$ [Myr]\", fontsize=18)\n",
    "\n",
    "# axes[0,0].set_xlim(300,1200)\n",
    "# axes[0,0].xaxis.set_ticks([400,750,1100])\n",
    "# axes[0,0].yaxis.set_ticks([0,20,40,60])\n",
    "\n",
    "# axes[1,0].set_ylabel('$N$')\n",
    "# axes[2,1].set_xlabel(r\"$t_\\lambda$ [Myr]\", fontsize=18)\n",
    "# axes[0,1].set_title(r\"Larger pattern speed $\\longrightarrow$\", fontsize=18, y=1.04)\n",
    "# axes[1,2].set_ylabel(r\"$\\longleftarrow$ Larger bar angle\", fontsize=18, labelpad=10)\n",
    "# axes[1,2].yaxis.set_label_position(\"right\")\n",
    "\n",
    "# fig.savefig(os.path.join(plotpath, \"lyapunov-hist.png\"), dpi=300)\n",
    "# fig.savefig(os.path.join(plotpath, \"lyapunov-hist.pdf\"))"
   ]
  },
  {
   "cell_type": "code",
   "execution_count": null,
   "metadata": {
    "collapsed": true
   },
   "outputs": [],
   "source": []
  },
  {
   "cell_type": "markdown",
   "metadata": {},
   "source": [
    "---"
   ]
  },
  {
   "cell_type": "code",
   "execution_count": null,
   "metadata": {
    "collapsed": true
   },
   "outputs": [],
   "source": [
    "import time"
   ]
  },
  {
   "cell_type": "code",
   "execution_count": null,
   "metadata": {
    "collapsed": false
   },
   "outputs": [],
   "source": [
    "nperiods = 1024\n",
    "nsteps_per_period = 1024\n",
    "fac = nsteps_per_period/256.\n",
    "\n",
    "t0 = time.time()\n",
    "lyap = gd.fast_lyapunov_max(gr.w0[0], op.load_potential('barred_mw_1'), \n",
    "                            dt=d['dt'][0]/fac, nsteps=nperiods*nsteps_per_period,\n",
    "                            return_orbit=False)\n",
    "print(time.time()-t0)"
   ]
  },
  {
   "cell_type": "code",
   "execution_count": null,
   "metadata": {
    "collapsed": false
   },
   "outputs": [],
   "source": [
    "pl.loglog(np.arange(lyap.shape[0])/fac, 1/lyap/1000., marker=None)"
   ]
  },
  {
   "cell_type": "code",
   "execution_count": null,
   "metadata": {
    "collapsed": false
   },
   "outputs": [],
   "source": [
    "pl.loglog(np.arange(lyap.shape[0])/fac, 1/lyap/1000., marker=None)"
   ]
  },
  {
   "cell_type": "markdown",
   "metadata": {},
   "source": [
    "## Lyapunov"
   ]
  },
  {
   "cell_type": "code",
   "execution_count": null,
   "metadata": {
    "collapsed": false
   },
   "outputs": [],
   "source": [
    "fig,ax = pl.subplots(1,1,figsize=(5,5))\n",
    "\n",
    "colors = ['k'] + ['#B2182B']*9\n",
    "# labels = ['static', 'barred'] + [None]*8\n",
    "labels = [None]*10\n",
    "for name,color,label in zip(all_names,colors,labels):\n",
    "    with open(os.path.join(RESULTSPATH,name,\"lyapunov\",\"lyap.pickle\"),'rb') as f:\n",
    "        lyap = pickle.load(f)\n",
    "    lyap = np.mean(lyap, axis=1)\n",
    "\n",
    "#     ax.plot(ts[10:-10:10], 1/lyap, marker=None, color=color, label=label)\n",
    "    ax.plot((1/lyap).to(u.Gyr), marker=None, color=color, label=label)\n",
    "\n",
    "ax.set_xlabel(\"$N$ iterations\")\n",
    "ax.set_ylabel(r\"$t_\\lambda$ [Gyr]\")\n",
    "\n",
    "ax.set_xscale('log')\n",
    "ax.set_yscale('log')\n",
    "ax.set_xlim(10,lyap.size)\n",
    "ax.set_ylim(1E-2,22)\n",
    "\n",
    "ax.text(1.2E4, 10, \"Static\", rotation=50, fontsize=18)\n",
    "ax.text(1.2E4, 2.5E-1, \"Barred\", fontsize=18, color=colors[-1])\n",
    "\n",
    "# ax.legend(loc='upper left', fontsize=18)\n",
    "\n",
    "# ax.xaxis.set_ticklabels([\"\", \"1\", \"10\", \"100\", \"1000\", \"10000\"])\n",
    "# ax.yaxis.set_ticklabels([\"\", \"0.1\", \"1\", \"10\", \"100\", \"1000\"])\n",
    "\n",
    "fig.tight_layout()\n",
    "\n",
    "# fig.savefig(os.path.join(plotpath, \"lyapunov.png\"), dpi=300)\n",
    "# fig.savefig(os.path.join(plotpath, \"lyapunov.pdf\"))"
   ]
  },
  {
   "cell_type": "markdown",
   "metadata": {},
   "source": [
    "---\n",
    "\n",
    "## Frequencies"
   ]
  },
  {
   "cell_type": "code",
   "execution_count": null,
   "metadata": {
    "collapsed": false
   },
   "outputs": [],
   "source": [
    "ts = dict()\n",
    "ws = dict()\n",
    "for name in all_names:\n",
    "    w0 = np.load(\"/Users/adrian/projects/ophiuchus/output/orbitfit/{}/w0.npy\".format(name))\n",
    "    w0 = np.median(w0, axis=0)\n",
    "    pot = op.load_potential(name)\n",
    "    \n",
    "    dt, nsteps = estimate_dt_nsteps(w0, pot, nperiods=256, nsteps_per_period=256, dE_threshold=None)\n",
    "    ts[name],ws[name] = pot.integrate_orbit(w0, dt=dt, nsteps=nsteps, Integrator=gi.DOPRI853Integrator)\n",
    "    \n",
    "    # testing rotating coords\n",
    "    xs = ws[name][:,0,:3]\n",
    "    fig = gd.plot_orbits(xs, marker=None)"
   ]
  },
  {
   "cell_type": "code",
   "execution_count": null,
   "metadata": {
    "collapsed": false
   },
   "outputs": [],
   "source": [
    "freqs = np.zeros((len(all_names),2,3))\n",
    "for j, name in enumerate(all_names):\n",
    "    t = ts[name]\n",
    "    w = ws[name]\n",
    "    \n",
    "    tt = t[:t.size//2+1]\n",
    "    sf = superfreq.SuperFreq(tt)\n",
    "    \n",
    "    fs1 = [(w[:t.size//2+1,0,i]+1j*w[:t.size//2+1,0,i+3]) for i in range(3)]\n",
    "    fs2 = [(w[t.size//2:,0,i]+1j*w[t.size//2:,0,i+3]) for i in range(3)]\n",
    "    freq1,tbl1,ixes1 = sf.find_fundamental_frequencies(fs1, min_freq_diff=1E-4)\n",
    "    freq2,tbl2,ixes2 = sf.find_fundamental_frequencies(fs2, min_freq_diff=1E-4)\n",
    "    \n",
    "#     vecs1 = superfreq.find_integer_vectors(f1, tbl1)\n",
    "#     vecs2 = superfreq.find_integer_vectors(f2, tbl2)\n",
    "    \n",
    "    f1 = [np.sum(tbl1[tbl1['idx']==k]['A'][None] * np.exp(1j * tbl1[tbl1['idx']==k]['freq'][None] * tt[:,None]), axis=1) for k in range(3)]\n",
    "    f2 = [np.sum(tbl2[tbl2['idx']==k]['A'][None] * np.exp(1j * tbl2[tbl2['idx']==k]['freq'][None] * tt[:,None]), axis=1) for k in range(3)]\n",
    "\n",
    "    freqs[j,0] = freq1\n",
    "    freqs[j,1] = freq2"
   ]
  },
  {
   "cell_type": "code",
   "execution_count": null,
   "metadata": {
    "collapsed": false
   },
   "outputs": [],
   "source": [
    "fig,axes = pl.subplots(2,1,figsize=(6,8),sharex=True,sharey=True)\n",
    "axes[0].plot(tt, fs1[1].real, marker=None)\n",
    "axes[1].plot(tt, f1[1].real, marker=None)"
   ]
  },
  {
   "cell_type": "code",
   "execution_count": null,
   "metadata": {
    "collapsed": true
   },
   "outputs": [],
   "source": []
  },
  {
   "cell_type": "code",
   "execution_count": null,
   "metadata": {
    "collapsed": true
   },
   "outputs": [],
   "source": []
  },
  {
   "cell_type": "code",
   "execution_count": null,
   "metadata": {
    "collapsed": true
   },
   "outputs": [],
   "source": []
  },
  {
   "cell_type": "code",
   "execution_count": null,
   "metadata": {
    "collapsed": true
   },
   "outputs": [],
   "source": []
  },
  {
   "cell_type": "code",
   "execution_count": null,
   "metadata": {
    "collapsed": false
   },
   "outputs": [],
   "source": [
    "reg_w0 = np.array([25.,0,0,0.,0.01,0.2]) # regular\n",
    "oph_w0 = w0[0] # ophiuchus"
   ]
  },
  {
   "cell_type": "code",
   "execution_count": null,
   "metadata": {
    "collapsed": false
   },
   "outputs": [],
   "source": [
    "# reg_t,reg_w = pot.integrate_orbit(reg_w0, dt=1., nsteps=250000, Integrator=gi.DOPRI853Integrator)\n",
    "oph_t,oph_w = pot.integrate_orbit(oph_w0, dt=0.4, nsteps=250000, Integrator=gi.DOPRI853Integrator)"
   ]
  },
  {
   "cell_type": "code",
   "execution_count": null,
   "metadata": {
    "collapsed": false
   },
   "outputs": [],
   "source": [
    "fig = gd.plot_orbits(reg_w, marker=None)\n",
    "fig = gd.plot_orbits(oph_w, marker=None, axes=fig.axes)"
   ]
  },
  {
   "cell_type": "code",
   "execution_count": null,
   "metadata": {
    "collapsed": false
   },
   "outputs": [],
   "source": [
    "# Lz = np.cross(w[:,0,:3], w[:,0,3:])[:,2]\n",
    "# EJ = pot.total_energy(w[:,0,:3], w[:,0,3:]) - Omega * Lz"
   ]
  },
  {
   "cell_type": "code",
   "execution_count": null,
   "metadata": {
    "collapsed": false
   },
   "outputs": [],
   "source": [
    "# dE = np.abs((EJ[1:]-EJ[0])/EJ[0])\n",
    "# pl.semilogy(dE, marker=None)"
   ]
  },
  {
   "cell_type": "code",
   "execution_count": null,
   "metadata": {
    "collapsed": false
   },
   "outputs": [],
   "source": [
    "for t,w in zip([reg_t,oph_t], [reg_w[:,0], oph_w[:,0]]):\n",
    "    sf = superfreq.SuperFreq(t[:t.size//2])\n",
    "    fs1 = [(w[:t.size//2+1,i]+1j*w[:t.size//2+1,i+3]) for i in range(3)]\n",
    "    fs2 = [(w[t.size//2:,i]+1j*w[t.size//2:,i+3]) for i in range(3)]\n",
    "    f1,_,_ = sf.find_fundamental_frequencies(fs1)\n",
    "    f2,_,_ = sf.find_fundamental_frequencies(fs2, min_freq_diff=1E-4)\n",
    "    print(f1)\n",
    "    print(f2)\n",
    "    print(t.max() / (2*np.pi/f1))\n",
    "    print(\"--\")"
   ]
  },
  {
   "cell_type": "markdown",
   "metadata": {},
   "source": [
    " ---"
   ]
  },
  {
   "cell_type": "code",
   "execution_count": null,
   "metadata": {
    "collapsed": true
   },
   "outputs": [],
   "source": [
    "logpot = gp.LogarithmicPotential(v_c=1., r_h=0.1, q1=1., q2=0.8, q3=0.8, units=galactic)\n",
    "Omega_b = np.array([0.,0.,0.1])\n",
    "\n",
    "def func(t, w):\n",
    "    q = w.T[:3].T\n",
    "    p = w.T[3:].T\n",
    "        \n",
    "    dq = p - np.cross(Omega_b[None], q)\n",
    "    \n",
    "    gradPh = logpot.gradient(q)\n",
    "    dp = -gradPh - np.cross(Omega_b[None], p)\n",
    "    \n",
    "    return np.hstack((dq, dp))"
   ]
  },
  {
   "cell_type": "code",
   "execution_count": null,
   "metadata": {
    "collapsed": true
   },
   "outputs": [],
   "source": [
    "integrator = gi.DOPRI853Integrator(func)"
   ]
  },
  {
   "cell_type": "code",
   "execution_count": null,
   "metadata": {
    "collapsed": false
   },
   "outputs": [],
   "source": [
    "t,w = integrator.run(np.array([1.,0,0,0,-0.8,0]), dt=0.1, nsteps=10000)"
   ]
  },
  {
   "cell_type": "code",
   "execution_count": null,
   "metadata": {
    "collapsed": false
   },
   "outputs": [],
   "source": [
    "pl.plot(w[:,0,0], w[:,0,1])"
   ]
  },
  {
   "cell_type": "code",
   "execution_count": null,
   "metadata": {
    "collapsed": true
   },
   "outputs": [],
   "source": []
  }
 ],
 "metadata": {
  "kernelspec": {
   "display_name": "Python 3",
   "language": "python",
   "name": "python3"
  },
  "language_info": {
   "codemirror_mode": {
    "name": "ipython",
    "version": 3
   },
   "file_extension": ".py",
   "mimetype": "text/x-python",
   "name": "python",
   "nbconvert_exporter": "python",
   "pygments_lexer": "ipython3",
   "version": "3.5.1"
  }
 },
 "nbformat": 4,
 "nbformat_minor": 0
}