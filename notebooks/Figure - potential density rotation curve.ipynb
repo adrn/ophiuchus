{
 "cells": [
  {
   "cell_type": "code",
   "execution_count": null,
   "metadata": {
    "collapsed": false
   },
   "outputs": [],
   "source": [
    "from __future__ import division, print_function\n",
    "import os\n",
    "import sys\n",
    "from collections import OrderedDict\n",
    "\n",
    "# Third-party\n",
    "import astropy.coordinates as coord\n",
    "import astropy.units as u\n",
    "import matplotlib as mpl\n",
    "import matplotlib.pyplot as pl\n",
    "import numpy as np\n",
    "pl.style.use('apw-notebook')\n",
    "%matplotlib inline\n",
    "\n",
    "# Custom\n",
    "import gala.dynamics as gd\n",
    "import gala.integrate as gi\n",
    "import gala.potential as gp\n",
    "from gala.units import galactic\n",
    "from scipy.misc import factorial\n",
    "\n",
    "# from ophiuchus import barred_mw, static_mw\n",
    "import ophiuchus.potential as op\n",
    "\n",
    "plotpath = \"/Users/adrian/projects/ophiuchus-paper/figures/\"\n",
    "if not os.path.exists(plotpath):\n",
    "    os.mkdir(plotpath)"
   ]
  },
  {
   "cell_type": "code",
   "execution_count": null,
   "metadata": {
    "collapsed": false
   },
   "outputs": [],
   "source": [
    "barred_mw = op.load_potential(\"barred_mw_4\")\n",
    "static_mw = op.load_potential(\"static_mw\")"
   ]
  },
  {
   "cell_type": "code",
   "execution_count": null,
   "metadata": {
    "collapsed": false
   },
   "outputs": [],
   "source": [
    "# transform from H&O 1992 coefficients to Lowing 2011 coefficients\n",
    "nlms = np.array([[0,0,0],\n",
    "                 [1,0,0],\n",
    "                 [2,0,0],\n",
    "                 [3,0,0],\n",
    "                 [0,2,0],\n",
    "                 [1,2,0],\n",
    "                 [2,2,0],\n",
    "                 [0,2,2],\n",
    "                 [1,2,2],\n",
    "                 [2,2,2],\n",
    "                 [0,4,0],\n",
    "                 [1,4,0],\n",
    "                 [0,4,2],\n",
    "                 [1,4,2],\n",
    "                 [0,4,4],\n",
    "                 [1,4,4],\n",
    "                 [0,6,0],\n",
    "                 [0,6,2],\n",
    "                 [0,6,4],\n",
    "                 [0,6,6]])\n",
    "\n",
    "_Snlm = np.array([1.509,-0.086,-0.033,-0.02,-2.606,\n",
    "                  -0.221,-0.001,0.665,0.129,0.006,6.406,\n",
    "                  1.295,-0.66,-0.14,0.044,-0.012,-5.859,\n",
    "                  0.984,-0.03,0.001])\n",
    "NEW_S = _Snlm.copy()\n",
    "\n",
    "for i,(n,l,m) in zip(range(len(_Snlm)), nlms):\n",
    "    if l != 0:\n",
    "        fac = np.sqrt(4*np.pi) * np.sqrt((2*l+1) / (4*np.pi) * factorial(l-m) / factorial(l+m))\n",
    "        NEW_S[i] /= fac"
   ]
  },
  {
   "cell_type": "code",
   "execution_count": null,
   "metadata": {
    "collapsed": false
   },
   "outputs": [],
   "source": [
    "nmax = 3\n",
    "lmax = 6\n",
    "\n",
    "Snlm = np.zeros((nmax+1,lmax+1,lmax+1))\n",
    "for (n,l,m),A in zip(nlms,NEW_S):\n",
    "    Snlm[n,l,m] = A"
   ]
  },
  {
   "cell_type": "code",
   "execution_count": null,
   "metadata": {
    "collapsed": false
   },
   "outputs": [],
   "source": [
    "static_mw"
   ]
  },
  {
   "cell_type": "code",
   "execution_count": null,
   "metadata": {
    "collapsed": false
   },
   "outputs": [],
   "source": [
    "barred_mw"
   ]
  },
  {
   "cell_type": "code",
   "execution_count": null,
   "metadata": {
    "collapsed": false
   },
   "outputs": [],
   "source": [
    "# barpars = barred_mw.parameters.copy()\n",
    "# barpars['halo']['q_z'] = 1.\n",
    "# barpars['spheroid']['c'] = 0.2\n",
    "# barpars['spheroid']['m'] = 5E9\n",
    "# barpars['disk']['m'] = 4E10\n",
    "# barpars['bar']['r_s'] = 1.2\n",
    "# barpars['bar']['m'] = barpars['bar']['m']\n",
    "# barred_mw = op.OphiuchusPotential(**barpars)\n",
    "\n",
    "# stapars = static_mw.parameters.copy()\n",
    "# stapars['halo']['q_z'] = 1.\n",
    "# stapars['spheroid']['c'] = 0.3\n",
    "# stapars['spheroid']['m'] = 1.2E10\n",
    "# stapars['disk']['m'] = 6E10\n",
    "# static_mw = op.OphiuchusPotential(**stapars)"
   ]
  },
  {
   "cell_type": "code",
   "execution_count": null,
   "metadata": {
    "collapsed": false
   },
   "outputs": [],
   "source": [
    "potential_classes = OrderedDict()\n",
    "potential_classes['disk'] = gp.MiyamotoNagaiPotential\n",
    "potential_classes['halo'] = gp.FlattenedNFWPotential\n",
    "potential_classes['bar'] = op.WangZhaoBarPotential\n",
    "potential_classes['spheroid'] = gp.HernquistPotential"
   ]
  },
  {
   "cell_type": "code",
   "execution_count": null,
   "metadata": {
    "collapsed": false
   },
   "outputs": [],
   "source": [
    "(0.19*u.kpc/u.Myr).to(u.km/u.s)"
   ]
  },
  {
   "cell_type": "markdown",
   "metadata": {},
   "source": [
    "---\n",
    "\n",
    "### Mass profile"
   ]
  },
  {
   "cell_type": "code",
   "execution_count": null,
   "metadata": {
    "collapsed": false
   },
   "outputs": [],
   "source": [
    "ix = 0\n",
    "\n",
    "xyz = np.zeros((3,128))\n",
    "xyz[ix] = np.linspace(0.,10.,xyz.shape[1])\n",
    "\n",
    "for pot in [static_mw, barred_mw]:\n",
    "    Menc = pot.mass_enclosed(xyz)\n",
    "    pl.loglog(xyz[ix], Menc, marker='')\n",
    "pl.axvline(1)\n",
    "pl.axhline(1E10)"
   ]
  },
  {
   "cell_type": "markdown",
   "metadata": {},
   "source": [
    "---"
   ]
  },
  {
   "cell_type": "code",
   "execution_count": null,
   "metadata": {
    "collapsed": true
   },
   "outputs": [],
   "source": [
    "def density_on_grid(potential, t=0., grid_lim=(-15,15), ngrid=128):\n",
    "    grid = np.linspace(grid_lim[0], grid_lim[1], ngrid)\n",
    "    xyz = np.vstack(map(np.ravel, np.meshgrid(grid,grid,grid)))\n",
    "\n",
    "#     val = np.zeros((ngrid*ngrid*ngrid,))\n",
    "    val = potential.density(xyz, t=t).value\n",
    "    val[np.isnan(val)] = val[np.isfinite(val)].min()\n",
    "    val[val < 0] = 1.\n",
    "    \n",
    "    gridx = xyz[0].reshape(ngrid,ngrid,ngrid)[:,:,0]\n",
    "    gridy = xyz[1].reshape(ngrid,ngrid,ngrid)[:,:,0]\n",
    "    \n",
    "    return gridx, gridy, val"
   ]
  },
  {
   "cell_type": "code",
   "execution_count": null,
   "metadata": {
    "collapsed": false
   },
   "outputs": [],
   "source": [
    "ngrid = 128\n",
    "xx,yy,barred_dens = density_on_grid(barred_mw, ngrid=ngrid)\n",
    "xx,yy,static_dens = density_on_grid(static_mw, ngrid=ngrid)"
   ]
  },
  {
   "cell_type": "markdown",
   "metadata": {},
   "source": [
    "## Surface density plots"
   ]
  },
  {
   "cell_type": "code",
   "execution_count": null,
   "metadata": {
    "collapsed": false
   },
   "outputs": [],
   "source": [
    "def side_by_side_surface_dens(xx, yy, dens):\n",
    "    ngrid = xx.shape[0]\n",
    "    \n",
    "    fig,axes = pl.subplots(1, 2, figsize=(8,4), \n",
    "                           sharex=True, sharey=True)\n",
    "    \n",
    "    axes[0].pcolormesh(xx, yy, dens.reshape(ngrid,ngrid,ngrid).sum(axis=2), \n",
    "                       cmap='Greys_r',\n",
    "                       norm=mpl.colors.LogNorm(),\n",
    "                       vmin=1E7, vmax=5E9)\n",
    "    axes[0].text(-8., 0, r\"$\\odot$\", ha='center', va='center', fontsize=18, color='w')\n",
    "\n",
    "    axes[1].pcolormesh(xx, yy, dens.reshape(ngrid,ngrid,ngrid).sum(axis=0).T, \n",
    "                       cmap='Greys_r',\n",
    "                       norm=mpl.colors.LogNorm(),\n",
    "                       vmin=1E7, vmax=5E9)\n",
    "\n",
    "    axes[0].set_xlim(xx.min(), xx.max())\n",
    "    axes[0].set_ylim(yy.min(), yy.max())\n",
    "\n",
    "    # TODO: fix the damn aspect ratio\n",
    "#     for ax in axes:\n",
    "#         ax.set_aspect('equal')\n",
    "    fig.tight_layout()\n",
    "    \n",
    "    return fig"
   ]
  },
  {
   "cell_type": "code",
   "execution_count": null,
   "metadata": {
    "collapsed": false
   },
   "outputs": [],
   "source": [
    "fig = side_by_side_surface_dens(xx, yy, barred_dens)\n",
    "fig = side_by_side_surface_dens(xx, yy, static_dens)"
   ]
  },
  {
   "cell_type": "markdown",
   "metadata": {},
   "source": [
    "## Contour plots"
   ]
  },
  {
   "cell_type": "code",
   "execution_count": null,
   "metadata": {
    "collapsed": true
   },
   "outputs": [],
   "source": [
    "def side_by_side_contour_plots(xx, yy, dens, levels=10**np.arange(7,12,0.25)):\n",
    "    ngrid = xx.shape[0]\n",
    "    \n",
    "    fig,axes = pl.subplots(1,2,figsize=(7.8,4),sharex=True,sharey=True)\n",
    "\n",
    "    im = axes[0].contour(xx, yy, dens.reshape(ngrid,ngrid,ngrid).sum(axis=2), \n",
    "                         colors='k',\n",
    "                         levels=levels,\n",
    "                         rasterized=True)\n",
    "    axes[0].text(-8., 0, r\"$\\odot$\", ha='center', va='center', fontsize=18)\n",
    "\n",
    "    _ = axes[1].contour(xx, yy, dens.reshape(ngrid,ngrid,ngrid).sum(axis=1).T, \n",
    "                        colors='k',\n",
    "                        levels=levels,\n",
    "                        rasterized=True)\n",
    "\n",
    "\n",
    "    # fig.subplots_adjust(bottom=0.2, right=0.85, wspace=0.25)\n",
    "\n",
    "    for ax in axes:\n",
    "        ax.xaxis.set_ticks([-10,0,10])\n",
    "        ax.yaxis.set_ticks([-10,0,10])\n",
    "\n",
    "    axes[0].set_xlabel(\"$x$ [kpc]\")\n",
    "    axes[0].set_ylabel(\"$y$ [kpc]\")\n",
    "    axes[1].set_xlabel(\"$y$ [kpc]\")\n",
    "    axes[1].set_ylabel(\"$z$ [kpc]\")\n",
    "\n",
    "    axes[0].set_xlim(xx.min(), xx.max())\n",
    "    axes[0].set_ylim(yy.min(), yy.max())\n",
    "\n",
    "    fig.tight_layout()\n",
    "    \n",
    "    return fig"
   ]
  },
  {
   "cell_type": "code",
   "execution_count": null,
   "metadata": {
    "collapsed": false
   },
   "outputs": [],
   "source": [
    "barred_fig = side_by_side_contour_plots(xx, yy, barred_dens)\n",
    "static_fig = side_by_side_contour_plots(xx, yy, static_dens)\n",
    "\n",
    "# barred_fig.savefig(os.path.join(plotpath, \"barred-surface-density-contour.pdf\"), bbox_inches='tight')\n",
    "# barred_fig.savefig(os.path.join(plotpath, \"barred-surface-density-contour.png\"), dpi=400, bbox_inches='tight')\n",
    "\n",
    "# static_fig.savefig(os.path.join(plotpath, \"static-surface-density-contour.pdf\"), bbox_inches='tight')\n",
    "# static_fig.savefig(os.path.join(plotpath, \"static-surface-density-contour.png\"), dpi=400, bbox_inches='tight')"
   ]
  },
  {
   "cell_type": "markdown",
   "metadata": {},
   "source": [
    "## Portail et al. (2015)"
   ]
  },
  {
   "cell_type": "code",
   "execution_count": null,
   "metadata": {
    "collapsed": false
   },
   "outputs": [],
   "source": [
    "ngrid = 65\n",
    "grid = np.linspace(-2,2,ngrid)\n",
    "xyz = np.vstack(map(np.ravel, np.meshgrid(grid,grid,grid)))\n",
    "\n",
    "val2 = np.zeros((ngrid*ngrid*ngrid,))\n",
    "# for k in potentials.keys():\n",
    "#     val += potentials[k].density(xyz)\n",
    "val2 += potentials['bar'].density(xyz)\n",
    "val2[np.isnan(val2)] = val2[np.isfinite(val2)].max()"
   ]
  },
  {
   "cell_type": "code",
   "execution_count": null,
   "metadata": {
    "collapsed": false
   },
   "outputs": [],
   "source": [
    "surf_dens = (val2.reshape(ngrid,ngrid,ngrid).sum(axis=1).T*u.Msun/(u.kpc**2)/ngrid).to(u.Msun/u.pc**2)\n",
    "\n",
    "pl.figure(figsize=(6,3))\n",
    "pl.contourf(xyz[0].reshape(ngrid,ngrid,ngrid)[:,:,0],\n",
    "            xyz[1].reshape(ngrid,ngrid,ngrid)[:,:,0],\n",
    "            surf_dens.value,\n",
    "            norm=mpl.colors.LogNorm(),\n",
    "            levels=np.logspace(1., 4, 8),\n",
    "            cmap='Blues')\n",
    "#               cmap='Greys_r',\n",
    "#               norm=mpl.colors.LogNorm(),\n",
    "#               vmin=5E8, vmax=5E10)\n",
    "pl.xlim(-2,2)\n",
    "pl.ylim(-1.1,1.1)\n",
    "pl.colorbar()\n",
    "pl.tight_layout()"
   ]
  },
  {
   "cell_type": "markdown",
   "metadata": {},
   "source": [
    "## Circular velocity curve"
   ]
  },
  {
   "cell_type": "code",
   "execution_count": null,
   "metadata": {
    "collapsed": false
   },
   "outputs": [],
   "source": [
    "def circ_vel_plot(potential, name): \n",
    "    \"\"\" name = barred, static \"\"\"\n",
    "    rr = np.linspace(0.1, 20., 1024)\n",
    "    xyz = np.zeros((3, len(rr)))\n",
    "    xyz[0] = rr\n",
    "    \n",
    "    potentials = OrderedDict()\n",
    "    for k,P in potential_classes.items():\n",
    "        potentials[k] = P(units=galactic, **potential.parameters[k])\n",
    "\n",
    "    # vcirc = (np.sqrt(potential.G * potential.mass_enclosed(xyz) / rr)*u.kpc/u.Myr).to(u.km/u.s).value\n",
    "    vcirc = (np.sqrt(potential.G * np.sum([p.mass_enclosed(xyz) for p in potentials.values()], axis=0) / rr)*u.kpc/u.Myr).to(u.km/u.s).value\n",
    "\n",
    "    fig,ax = pl.subplots(1,1,figsize=(6,5))\n",
    "    ax.plot(rr, vcirc, marker='', lw=3.)\n",
    "\n",
    "    styles = dict(\n",
    "        halo=dict(lw=2, ls='-.'),\n",
    "        bar=dict(lw=3., ls=':'),\n",
    "        spheroid=dict(lw=3., ls=':'),\n",
    "        disk=dict(lw=2., ls='--')\n",
    "    )\n",
    "    for k,p in potentials.items():\n",
    "        if k != 'halo' and potential.parameters[k]['m'] == 0:\n",
    "            continue\n",
    "        \n",
    "        if k == 'bar':\n",
    "            continue\n",
    "        \n",
    "        if name == 'static':\n",
    "            disk_other = 'Spher'\n",
    "        elif name == 'barred':\n",
    "            disk_other = 'Bar+Spher'\n",
    "\n",
    "        vc = (np.sqrt(potential.G * p.mass_enclosed(xyz).value / rr)*u.kpc/u.Myr).to(u.km/u.s).value\n",
    "        if name == 'barred' and k == 'spheroid':\n",
    "            menc_sph = p.mass_enclosed(xyz)\n",
    "            p = potentials['bar']\n",
    "            vc = (np.sqrt(potential.G * (menc_sph + p.mass_enclosed(xyz)).value / rr)*u.kpc/u.Myr).to(u.km/u.s).value\n",
    "            label = 'Bar+Spheroid'\n",
    "        else:\n",
    "            label = k.capitalize()\n",
    "        ax.plot(rr, vc, marker='', label=label, **styles[k])\n",
    "    \n",
    "    if name == 'barred':\n",
    "        vc = (np.sqrt(potential.G * (potentials['spheroid'].mass_enclosed(xyz)+potentials['bar'].mass_enclosed(xyz)+potentials['disk'].mass_enclosed(xyz)).value / rr)*u.kpc/u.Myr).to(u.km/u.s).value\n",
    "        ax.plot(rr, vc, marker='', label='Disk+Bar+Spher', lw=2.)\n",
    "    else:\n",
    "        vc = (np.sqrt(potential.G * (potentials['spheroid'].mass_enclosed(xyz)+potentials['disk'].mass_enclosed(xyz)).value / rr)*u.kpc/u.Myr).to(u.km/u.s).value\n",
    "\n",
    "    ax.set_xlabel(\"$R$ [kpc]\")\n",
    "    ax.set_ylabel(r\"$v_c$ [${\\rm km}\\,{\\rm s}^{-1}$]\")\n",
    "\n",
    "    ax.legend(loc='upper right', fontsize=12)\n",
    "    ax.set_ylim(0,300)\n",
    "    # ax.set_ylim(150,300)\n",
    "    # ax.axhline(220, alpha=0.2, lw=1.)\n",
    "    # ax.axvline(8., color='#cccccc', lw=2., zorder=-100)\n",
    "\n",
    "    rcolor = '#dddddd'\n",
    "    rect = mpl.patches.Rectangle((0.,215), rr.max(), 20., zorder=-100, color=rcolor)\n",
    "    ax.add_patch(rect)\n",
    "    rect2 = mpl.patches.Rectangle((8.,0), 0.3, ax.get_ylim()[1], zorder=-100, color=rcolor)\n",
    "    ax.add_patch(rect2)\n",
    "\n",
    "    fig.tight_layout()\n",
    "    \n",
    "    return fig"
   ]
  },
  {
   "cell_type": "code",
   "execution_count": null,
   "metadata": {
    "collapsed": false
   },
   "outputs": [],
   "source": [
    "fig = circ_vel_plot(barred_mw, 'barred')\n",
    "# fig.savefig(os.path.join(plotpath, \"barred-circ-vel.pdf\"))\n",
    "# fig.savefig(os.path.join(plotpath, \"barred-circ-vel.png\"), dpi=400)"
   ]
  },
  {
   "cell_type": "code",
   "execution_count": null,
   "metadata": {
    "collapsed": false
   },
   "outputs": [],
   "source": [
    "fig = circ_vel_plot(static_mw, name='static')\n",
    "# fig.savefig(os.path.join(plotpath, \"static-circ-vel.pdf\"))\n",
    "# fig.savefig(os.path.join(plotpath, \"static-circ-vel.png\"), dpi=400)"
   ]
  },
  {
   "cell_type": "markdown",
   "metadata": {},
   "source": [
    "## A new figure with all four panels"
   ]
  },
  {
   "cell_type": "code",
   "execution_count": null,
   "metadata": {
    "collapsed": false
   },
   "outputs": [],
   "source": [
    "fig,axes = pl.subplots(2,2,figsize=(9,8.5),sharex='col')\n",
    "\n",
    "# Circular velocity\n",
    "styles = dict(\n",
    "    halo=dict(lw=2, ls='-.'),\n",
    "    bar=dict(lw=3., ls=':'),\n",
    "    spheroid=dict(lw=3., ls=':'),\n",
    "    disk=dict(lw=2., ls='--')\n",
    ")\n",
    "\n",
    "# Contour\n",
    "levels = 10**np.arange(7,12,0.25)\n",
    "\n",
    "rr = np.linspace(0.1, 22., 1024)\n",
    "fac = static_mw.G / rr\n",
    "xyz = np.zeros((3, len(rr)))\n",
    "xyz[0] = rr\n",
    "for i,(name,pot,dens) in enumerate(zip(['barred','static'], [barred_mw, static_mw],[barred_dens, static_dens])):\n",
    "    \n",
    "    # Circular velocity\n",
    "    ax = axes[i,0]\n",
    "    \n",
    "    potentials = OrderedDict()\n",
    "    for k,P in potential_classes.items():\n",
    "        potentials[k] = P(units=galactic, **pot.parameters[k])\n",
    "\n",
    "    # vcirc = (np.sqrt(potential.G * potential.mass_enclosed(xyz) / rr)*u.kpc/u.Myr).to(u.km/u.s).value\n",
    "    vcirc = (np.sqrt(pot.G * np.sum([p.mass_enclosed(xyz) for p in potentials.values()], axis=0) / rr)*u.kpc/u.Myr)\\\n",
    "             .to(u.km/u.s).value\n",
    "\n",
    "    ax.plot(rr, vcirc, marker='', lw=3.)\n",
    "    \n",
    "    menc = dict()\n",
    "    for k,p in potentials.items():\n",
    "        menc[k] = p.mass_enclosed(xyz)\n",
    "    \n",
    "    # Halo\n",
    "    vc = np.sqrt(fac * menc['halo'].value)\n",
    "    ax.plot(rr, (vc*u.kpc/u.Myr).to(u.km/u.s),\n",
    "            marker='', label='Halo', **styles['halo'])\n",
    "    \n",
    "    # disk, etc.\n",
    "    if name == 'static':\n",
    "        vc = np.sqrt(fac * (menc['disk']+menc['spheroid']).value)\n",
    "        ax.plot(rr, (vc*u.kpc/u.Myr).to(u.km/u.s), \n",
    "                marker='', label='Disk+Sph', **styles['disk'])\n",
    "    elif name == 'barred':\n",
    "        vc = np.sqrt(fac * (menc['disk']+menc['spheroid']+menc['bar']).value)\n",
    "        ax.plot(rr, (vc*u.kpc/u.Myr).to(u.km/u.s), \n",
    "                marker='', label='Disk+Sph+Bar', **styles['disk'])\n",
    "\n",
    "    ax.legend(loc='upper right', fontsize=12)\n",
    "    ax.set_ylim(0,300)\n",
    "    # ax.set_ylim(150,300)\n",
    "    # ax.axhline(220, alpha=0.2, lw=1.)\n",
    "    # ax.axvline(8., color='#cccccc', lw=2., zorder=-100)\n",
    "\n",
    "    rcolor = '#dddddd'\n",
    "    rect = mpl.patches.Rectangle((0.,215), rr.max(), 22., zorder=-100, color=rcolor)\n",
    "    ax.add_patch(rect)\n",
    "    rect2 = mpl.patches.Rectangle((8.,0), 0.3, ax.get_ylim()[1], zorder=-100, color=rcolor)\n",
    "    ax.add_patch(rect2)\n",
    "    \n",
    "    # Surface density\n",
    "    ngrid = xx.shape[0]\n",
    "    ax = axes[i,1]\n",
    "    im = ax.contour(xx, yy, dens.reshape(ngrid,ngrid,ngrid).sum(axis=2), \n",
    "                    colors='k', levels=levels, rasterized=True)\n",
    "    ax.text(-8., 0, r\"$\\odot$\", ha='center', va='center', fontsize=18)\n",
    "    ax.xaxis.set_ticks([-10,0,10])\n",
    "    ax.yaxis.set_ticks([-10,0,10])\n",
    "\n",
    "    ax.set_xlim(xx.min(), xx.max())\n",
    "    ax.set_ylim(yy.min(), yy.max())\n",
    "    \n",
    "    if i == 0:\n",
    "        ax = axes[0,0]\n",
    "        ax.text(8.4, 40, r'$R_\\odot$', fontsize=18, color='#666666')\n",
    "#         ax.annotate(r'$R_\\odot$', xy=(8.3, 50), xytext=(12, 75.), \n",
    "#                     fontsize=18,\n",
    "#                     xycoords='data', textcoords='data',\n",
    "#                     arrowprops=dict(arrowstyle=\"fancy\",\n",
    "#                                     fc=\"0.6\", ec=\"none\",\n",
    "#                                     patchB=rect2,\n",
    "#                                     connectionstyle=\"angle3,angleA=0,angleB=90\"),\n",
    "#                    )\n",
    "\n",
    "axes[0,0].text(1, 260, \"Barred\", fontsize=24, fontstyle='italic', ha='left')\n",
    "axes[1,0].text(1, 260, \"Static\", fontsize=24, fontstyle='italic', ha='left')\n",
    "    \n",
    "axes[1,0].set_xlabel(\"$R$ [kpc]\")\n",
    "axes[1,1].set_xlabel(\"$x$ [kpc]\")\n",
    "axes[0,0].set_ylabel(r\"$v_c$ [${\\rm km}\\,{\\rm s}^{-1}$]\")\n",
    "axes[1,0].set_ylabel(r\"$v_c$ [${\\rm km}\\,{\\rm s}^{-1}$]\")\n",
    "\n",
    "axes[0,0].set_xlim(0,22)\n",
    "\n",
    "axes[0,1].set_ylabel(\"$y$ [kpc]\")\n",
    "axes[1,1].set_ylabel(\"$y$ [kpc]\")\n",
    "axes[0,1].yaxis.set_label_position('right')\n",
    "axes[1,1].yaxis.set_label_position('right')\n",
    "axes[0,1].yaxis.tick_right()\n",
    "axes[1,1].yaxis.tick_right()\n",
    "axes[1,1].set_aspect('equal')\n",
    "fig.tight_layout()\n",
    "\n",
    "# fig.savefig(os.path.join(plotpath, \"potentials-four.pdf\"))\n",
    "# fig.savefig(os.path.join(plotpath, \"potentials-four.png\"), dpi=400)"
   ]
  },
  {
   "cell_type": "markdown",
   "metadata": {},
   "source": [
    "---\n",
    "\n",
    "### What direction is it rotating? I hope clockwise..."
   ]
  },
  {
   "cell_type": "code",
   "execution_count": null,
   "metadata": {
    "collapsed": false
   },
   "outputs": [],
   "source": [
    "pot = op.WangZhaoBarPotential(**barred_mw.parameters['bar'])\n",
    "\n",
    "T = (2*np.pi/(60*u.km/u.s/u.kpc)).to(u.Myr).value\n",
    "for time in np.linspace(0.,T/4,4):\n",
    "    xx,yy,_dens = density_on_grid(pot, t=time, ngrid=64)\n",
    "    fig = side_by_side_surface_dens(xx, yy, _dens)"
   ]
  },
  {
   "cell_type": "markdown",
   "metadata": {},
   "source": [
    "---"
   ]
  },
  {
   "cell_type": "code",
   "execution_count": null,
   "metadata": {
    "collapsed": false
   },
   "outputs": [],
   "source": [
    "pars = barred_mw.parameters['bar'].copy()\n",
    "pars['alpha'] = 0.\n",
    "pot = op.WangZhaoBarPotential(**pars)\n",
    "\n",
    "X = np.linspace(-15,15,256)\n",
    "\n",
    "_xyz = np.zeros((X.size,3))\n",
    "_xyz[:,0] = X\n",
    "along_x = pot.acceleration(_xyz)[:,0]\n",
    "\n",
    "_xyz = np.zeros((X.size,3))\n",
    "_xyz[:,1] = X\n",
    "along_y = pot.acceleration(_xyz)[:,1]"
   ]
  },
  {
   "cell_type": "code",
   "execution_count": null,
   "metadata": {
    "collapsed": false
   },
   "outputs": [],
   "source": [
    "pl.plot(X, np.abs(along_x))\n",
    "pl.plot(X, np.abs(along_y))"
   ]
  },
  {
   "cell_type": "code",
   "execution_count": null,
   "metadata": {
    "collapsed": false
   },
   "outputs": [],
   "source": [
    "engrid = 32\n",
    "derp = np.linspace(-15,15,engrid)\n",
    "xy = np.vstack(map(np.ravel, np.meshgrid(derp,derp))).T\n",
    "xyz = np.zeros((len(xy),3))\n",
    "xyz[:,[0,2]] = xy\n",
    "\n",
    "dens = pot.density(xyz, t=0)\n",
    "dens[np.isnan(dens)] = dens[np.isfinite(dens)].max()\n",
    "    \n",
    "xx = xyz[:,0].reshape(engrid,engrid)\n",
    "yy = xyz[:,2].reshape(engrid,engrid)\n",
    "\n",
    "pl.figure(figsize=(5,5))\n",
    "pl.contour(xx, yy, dens.reshape(engrid,engrid),\n",
    "           colors='k', rasterized=True)"
   ]
  },
  {
   "cell_type": "code",
   "execution_count": null,
   "metadata": {
    "collapsed": true
   },
   "outputs": [],
   "source": []
  }
 ],
 "metadata": {
  "kernelspec": {
   "display_name": "Python [conda env:ophiuchus-dev]",
   "language": "python",
   "name": "conda-env-ophiuchus-dev-py"
  },
  "language_info": {
   "codemirror_mode": {
    "name": "ipython",
    "version": 3
   },
   "file_extension": ".py",
   "mimetype": "text/x-python",
   "name": "python",
   "nbconvert_exporter": "python",
   "pygments_lexer": "ipython3",
   "version": "3.5.2"
  }
 },
 "nbformat": 4,
 "nbformat_minor": 0
}